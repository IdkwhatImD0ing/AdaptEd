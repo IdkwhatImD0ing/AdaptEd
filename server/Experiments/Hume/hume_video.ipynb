{
 "cells": [
  {
   "cell_type": "code",
   "execution_count": 1,
   "metadata": {},
   "outputs": [],
   "source": [
    "from dotenv import load_dotenv\n",
    "import os\n",
    "import cv2\n",
    "import traceback\n",
    "from utilities import print_emotions\n",
    "from hume import HumeStreamClient\n",
    "from hume.models.config import FaceConfig"
   ]
  },
  {
   "cell_type": "code",
   "execution_count": null,
   "metadata": {},
   "outputs": [],
   "source": [
    "\n",
    "\n",
    "async def main():\n",
    "    video_path = \"test.mp4\" \n",
    "    frame_skip = 30  # Process every 30 frames\n",
    "\n",
    "    try:\n",
    "        client = HumeStreamClient(os.environ[\"HUME_API_KEY\"])\n",
    "        config = FaceConfig(identify_faces=True)\n",
    "\n",
    "        # Open the video file\n",
    "        cap = cv2.VideoCapture(video_path)\n",
    "        current_frame = 0\n",
    "\n",
    "        async with client.connect([config]) as socket:\n",
    "            while cap.isOpened():\n",
    "                ret, frame = cap.read()\n",
    "                if not ret:\n",
    "                    break\n",
    "\n",
    "                # Only process every 30th frame\n",
    "                if current_frame % frame_skip == 0:\n",
    "                    # Convert the frame from BGR to RGB (OpenCV uses BGR by default)\n",
    "                    frame_rgb = cv2.cvtColor(frame, cv2.COLOR_BGR2RGB)\n",
    "                    \n",
    "                    # Save the frame temporarily to send it\n",
    "                    temp_image_path = f\"temp_frame_{current_frame}.png\"\n",
    "                    cv2.imwrite(temp_image_path, frame_rgb)\n",
    "\n",
    "                    # Send the frame file\n",
    "                    result = await socket.send_file(temp_image_path)\n",
    "                    emotions = result[\"face\"][\"predictions\"][0][\"emotions\"]\n",
    "                    print_emotions(emotions)\n",
    "                \n",
    "                current_frame += 1\n",
    "\n",
    "            cap.release()\n",
    "\n",
    "    except Exception as e:\n",
    "        print(traceback.format_exc())\n",
    "\n",
    "await main()\n"
   ]
  }
 ],
 "metadata": {
  "kernelspec": {
   "display_name": "teachme",
   "language": "python",
   "name": "python3"
  },
  "language_info": {
   "codemirror_mode": {
    "name": "ipython",
    "version": 3
   },
   "file_extension": ".py",
   "mimetype": "text/x-python",
   "name": "python",
   "nbconvert_exporter": "python",
   "pygments_lexer": "ipython3",
   "version": "3.10.13"
  }
 },
 "nbformat": 4,
 "nbformat_minor": 2
}
