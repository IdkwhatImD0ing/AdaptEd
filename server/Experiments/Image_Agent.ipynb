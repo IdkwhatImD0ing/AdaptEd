{
 "cells": [
  {
   "cell_type": "markdown",
   "metadata": {},
   "source": [
    "# Google Image\n",
    "This notebook is meant to create a agent that searches for google images based on a prompt, then returns the links to those images plus a brief description of those images."
   ]
  },
  {
   "cell_type": "code",
   "execution_count": 63,
   "metadata": {},
   "outputs": [
    {
     "data": {
      "text/plain": [
       "True"
      ]
     },
     "execution_count": 63,
     "metadata": {},
     "output_type": "execute_result"
    }
   ],
   "source": [
    "from langchain.agents import AgentType, Tool, AgentExecutor, create_tool_calling_agent\n",
    "from langchain_community.utilities import GoogleSerperAPIWrapper\n",
    "from langchain import hub\n",
    "from langchain_openai import ChatOpenAI\n",
    "from langchain.tools import tool\n",
    "from typing import List, Dict, Any\n",
    "from openai import AsyncOpenAI\n",
    "import asyncio\n",
    "from nest_asyncio import apply\n",
    "apply()\n",
    "\n",
    "from dotenv import load_dotenv\n",
    "load_dotenv()"
   ]
  },
  {
   "cell_type": "code",
   "execution_count": 64,
   "metadata": {},
   "outputs": [],
   "source": [
    "agent_prompt = \"\"\"\n",
    "You are agent in charge of finding good images for lecture slides given the topic of the slide.\n",
    "You have access to google images.\n",
    "\n",
    "Remember, the images should be relevant to the topic and helpful for the students to understand the topic better.\n",
    "\n",
    "First find four images that you think are good for the given topic.\n",
    "Next, use get_descriptions tool to get the descriptions of the images.\n",
    "\n",
    "\"\"\""
   ]
  },
  {
   "cell_type": "code",
   "execution_count": 65,
   "metadata": {},
   "outputs": [],
   "source": [
    "@tool\n",
    "def get_descriptions(prompt: str ,images: List[str]) -> str:\n",
    "    \"\"\"\n",
    "    This function takes in a list of images and a prompt, and explains why the image is relevant to the prompt.\n",
    "    \"\"\"\n",
    "    client = AsyncOpenAI()\n",
    "    async def get_one_description(image: str) -> str:\n",
    "        response = await client.chat.completions.create(\n",
    "            model=\"gpt-4-turbo\",\n",
    "            messages=[\n",
    "                {\n",
    "                    \"role\": \"user\",\n",
    "                    \"content\": [\n",
    "                        {\"type\": \"text\", \"text\": \"Explain the contents of this image and how it is relevant to the prompt in two sentences.\"},\n",
    "                        {\n",
    "                            \"type\": \"image_url\",\n",
    "                            \"image_url\": {\n",
    "                                \"url\": image,\n",
    "                            },\n",
    "                        },\n",
    "                    ],\n",
    "                }\n",
    "            ],\n",
    "            max_tokens=300,\n",
    "        )\n",
    "\n",
    "        return(response.choices[0].message.content)\n",
    "    \n",
    "    image_descriptions = asyncio.run(asyncio.gather(*[get_one_description(image) for image in images]))\n",
    "    \n",
    "    # Link image urls with descriptions\n",
    "    image_descriptions = [f\"{image}: {description}\" for image, description in zip(images, image_descriptions)]\n",
    "    return str(image_descriptions)"
   ]
  },
  {
   "cell_type": "code",
   "execution_count": 66,
   "metadata": {},
   "outputs": [],
   "source": [
    "prompt = hub.pull(\"hwchase17/openai-tools-agent\")\n",
    "prompt.messages[0].prompt.template = agent_prompt\n",
    "llm = ChatOpenAI(temperature=0, model_name=\"gpt-4-turbo\")\n",
    "search = GoogleSerperAPIWrapper(type=\"images\")\n",
    "tools = [\n",
    "    Tool(\n",
    "        name=\"image_search\",\n",
    "        func=search.results,\n",
    "        description=\"Useful for finding images\",\n",
    "    ),\n",
    "    get_descriptions,\n",
    "    \n",
    "]\n",
    "\n",
    "agent = create_tool_calling_agent(llm, tools, prompt)\n",
    "executor = AgentExecutor(agent=agent, tools=tools, verbose=True).with_config(\n",
    "    {\"run_name\": \"Assistant\"}\n",
    ")"
   ]
  },
  {
   "cell_type": "code",
   "execution_count": 71,
   "metadata": {},
   "outputs": [
    {
     "name": "stdout",
     "output_type": "stream",
     "text": [
      "\n",
      "\n",
      "\u001b[1m> Entering new AgentExecutor chain...\u001b[0m\n",
      "\u001b[32;1m\u001b[1;3m\n",
      "Invoking: `image_search` with `stack data structure diagram`\n",
      "\n",
      "\n",
      "\u001b[0m\u001b[32;1m\u001b[1;3m\n",
      "Invoking: `image_search` with `stack operations push and pop`\n",
      "\n",
      "\n",
      "\u001b[0m\u001b[32;1m\u001b[1;3m\n",
      "Invoking: `image_search` with `LIFO (Last In First Out) concept`\n",
      "\n",
      "\n",
      "\u001b[0m\u001b[32;1m\u001b[1;3m\n",
      "Invoking: `image_search` with `real-life example of stack data structure`\n",
      "\n",
      "\n",
      "\u001b[0m\u001b[36;1m\u001b[1;3m{'searchParameters': {'q': 'stack operations push and pop', 'gl': 'us', 'hl': 'en', 'type': 'images', 'num': 10, 'engine': 'google'}, 'images': [{'title': 'Explain stack operations PUSH and POP with examples ...', 'imageUrl': 'https://homework.study.com/cimages/multimages/16/stack_push_operation2294814496370743228.jpg', 'imageWidth': 400, 'imageHeight': 246, 'thumbnailUrl': 'https://encrypted-tbn0.gstatic.com/images?q=tbn:ANd9GcQdGi8LA93QuNL56jy7xrDBvjl9v5gquCxRCTwK-7YKHTgqNk6b&s', 'thumbnailWidth': 286, 'thumbnailHeight': 176, 'source': 'Homework.Study.com', 'domain': 'homework.study.com', 'link': 'https://homework.study.com/explanation/explain-stack-operations-push-and-pop-with-examples.html', 'googleUrl': 'https://www.google.com/imgres?imgurl=https%3A%2F%2Fhomework.study.com%2Fcimages%2Fmultimages%2F16%2Fstack_push_operation2294814496370743228.jpg&tbnid=f4_HHBM8YD7KkM&imgrefurl=https%3A%2F%2Fhomework.study.com%2Fexplanation%2Fexplain-stack-operations-push-and-pop-with-examples.html&docid=_GfmLEQJn9TAlM&w=400&h=246&ved=1', 'position': 1}, {'title': 'Basic Operations in Stack Data Structure with ...', 'imageUrl': 'https://media.geeksforgeeks.org/wp-content/uploads/20220714004311/Stack-660x566.png', 'imageWidth': 660, 'imageHeight': 566, 'thumbnailUrl': 'https://encrypted-tbn0.gstatic.com/images?q=tbn:ANd9GcSHqtA0xtTY4bDpkVtjIY_UsF7YZciX51ql92NI8Bj5nTfCbVbp&s', 'thumbnailWidth': 242, 'thumbnailHeight': 208, 'source': 'GeeksforGeeks', 'domain': 'www.geeksforgeeks.org', 'link': 'https://www.geeksforgeeks.org/basic-operations-in-stack-data-structure-with-implementations/', 'googleUrl': 'https://www.google.com/imgres?imgurl=https%3A%2F%2Fmedia.geeksforgeeks.org%2Fwp-content%2Fuploads%2F20220714004311%2FStack-660x566.png&tbnid=IhY09PhgPU3SzM&imgrefurl=https%3A%2F%2Fwww.geeksforgeeks.org%2Fbasic-operations-in-stack-data-structure-with-implementations%2F&docid=WWZGks7TtM5k6M&w=660&h=566&ved=2ahUKEwiw-_HsntKFAxUc5ckDHYX1DF4QM3oECGQQAA', 'position': 2}, {'title': 'Stack (abstract data type) - Wikipedia', 'imageUrl': 'https://upload.wikimedia.org/wikipedia/commons/thumb/e/e4/Lifo_stack.svg/350px-Lifo_stack.svg.png', 'imageWidth': 350, 'imageHeight': 245, 'thumbnailUrl': 'https://encrypted-tbn0.gstatic.com/images?q=tbn:ANd9GcQF-WgYT1L1Pgkwdao7KDc4qyUSxnaMjlxnh5aSw1eQSKm1yio&s', 'thumbnailWidth': 268, 'thumbnailHeight': 188, 'source': 'Wikipedia', 'domain': 'en.wikipedia.org', 'link': 'https://en.wikipedia.org/wiki/Stack_(abstract_data_type)', 'googleUrl': 'https://www.google.com/imgres?imgurl=https%3A%2F%2Fupload.wikimedia.org%2Fwikipedia%2Fcommons%2Fthumb%2Fe%2Fe4%2FLifo_stack.svg%2F350px-Lifo_stack.svg.png&tbnid=kcRB1RZSvlZ5FM&imgrefurl=https%3A%2F%2Fen.wikipedia.org%2Fwiki%2FStack_(abstract_data_type)&docid=tqS3B0KeFRRXKM&w=350&h=245&ved=2ahUKEwiw-_HsntKFAxUc5ckDHYX1DF4QM3oECGIQAA', 'position': 3}, {'title': 'Stack Data Structure and Implementation in Python, Java and ...', 'imageUrl': 'https://cdn.programiz.com/sites/tutorial2program/files/stack-operations.png', 'imageWidth': 1152, 'imageHeight': 582, 'thumbnailUrl': 'https://encrypted-tbn0.gstatic.com/images?q=tbn:ANd9GcRpu6mta3VN-drhkXtCJCmjJl0DWDgflkq-mddqrJhS4ifLBeo&s', 'thumbnailWidth': 316, 'thumbnailHeight': 159, 'source': 'Programiz', 'domain': 'www.programiz.com', 'link': 'https://www.programiz.com/dsa/stack', 'googleUrl': 'https://www.google.com/imgres?imgurl=https%3A%2F%2Fcdn.programiz.com%2Fsites%2Ftutorial2program%2Ffiles%2Fstack-operations.png&tbnid=9B5iE8KNNQtgiM&imgrefurl=https%3A%2F%2Fwww.programiz.com%2Fdsa%2Fstack&docid=tV4-4-mw0fyy8M&w=1152&h=582&ved=2ahUKEwiw-_HsntKFAxUc5ckDHYX1DF4QM3oECGMQAA', 'position': 4}, {'title': 'Stack class 12] Operations on Stack - Computer Science - Teachoo', 'imageUrl': 'https://d1avenlh0i1xmr.cloudfront.net/6b2aab83-a5d3-47fa-8db6-19ff9d3ee5af/push-and-pop-operations-in-stack---teachoo.png', 'imageWidth': 512, 'imageHeight': 264, 'thumbnailUrl': 'https://encrypted-tbn0.gstatic.com/images?q=tbn:ANd9GcT4RjcetDF_8XWLmD-biPUIn-Qh-LclCoodn_ro-sPVgj-ji8g&s', 'thumbnailWidth': 313, 'thumbnailHeight': 161, 'source': 'Teachoo', 'domain': 'www.teachoo.com', 'link': 'https://www.teachoo.com/22085/4578/Operations-on-Stack/category/Concepts/', 'googleUrl': 'https://www.google.com/imgres?imgurl=https%3A%2F%2Fd1avenlh0i1xmr.cloudfront.net%2F6b2aab83-a5d3-47fa-8db6-19ff9d3ee5af%2Fpush-and-pop-operations-in-stack---teachoo.png&tbnid=VOir96BQuNXmmM&imgrefurl=https%3A%2F%2Fwww.teachoo.com%2F22085%2F4578%2FOperations-on-Stack%2Fcategory%2FConcepts%2F&docid=UaU9t4Q_jVFkfM&w=512&h=264&ved=2ahUKEwiw-_HsntKFAxUc5ckDHYX1DF4QM3oECGAQAA', 'position': 5}, {'title': 'Stack Operations in Data Structure | Scaler Topics', 'imageUrl': 'https://scaler.com/topics/images/stack-representation.webp', 'imageWidth': 3401, 'imageHeight': 1851, 'thumbnailUrl': 'https://encrypted-tbn0.gstatic.com/images?q=tbn:ANd9GcSZIu6IVhIXsRV44ADrtrvS6GCm8JGjp4T2MwK7wige4UDt6Sc&s', 'thumbnailWidth': 304, 'thumbnailHeight': 165, 'source': 'Scaler', 'domain': 'www.scaler.com', 'link': 'https://www.scaler.com/topics/stack-operations-in-data-structures/', 'googleUrl': 'https://www.google.com/imgres?imgurl=https%3A%2F%2Fscaler.com%2Ftopics%2Fimages%2Fstack-representation.webp&tbnid=1ThlDPQrBbhApM&imgrefurl=https%3A%2F%2Fwww.scaler.com%2Ftopics%2Fstack-operations-in-data-structures%2F&docid=46ZCY0ivfIyU5M&w=3401&h=1851&ved=2ahUKEwiw-_HsntKFAxUc5ckDHYX1DF4QM3oECF8QAA', 'position': 6}, {'title': 'Stack and its basic Operations', 'imageUrl': 'https://afteracademy.com/images/how-to-implement-stack-push-operation-cf97479ab11316c4.png', 'imageWidth': 511, 'imageHeight': 331, 'thumbnailUrl': 'https://encrypted-tbn0.gstatic.com/images?q=tbn:ANd9GcTJ1yxcgS1D2E8M8SK0kemvl19ff7bX5IQjTpI-n3711XuH2dBy&s', 'thumbnailWidth': 279, 'thumbnailHeight': 181, 'source': 'AfterAcademy', 'domain': 'afteracademy.com', 'link': 'https://afteracademy.com/blog/stack-and-its-basic-operations', 'googleUrl': 'https://www.google.com/imgres?imgurl=https%3A%2F%2Fafteracademy.com%2Fimages%2Fhow-to-implement-stack-push-operation-cf97479ab11316c4.png&tbnid=V1L83PAakDfKoM&imgrefurl=https%3A%2F%2Fafteracademy.com%2Fblog%2Fstack-and-its-basic-operations&docid=bDHlj1U9oFR91M&w=511&h=331&ved=2ahUKEwiw-_HsntKFAxUc5ckDHYX1DF4QM3oECGEQAA', 'position': 7}, {'title': 'Stack Data Structure', 'imageUrl': 'https://www.tutorialspoint.com/data_structures_algorithms/images/stack_representation.jpg', 'imageWidth': 500, 'imageHeight': 345, 'thumbnailUrl': 'https://encrypted-tbn0.gstatic.com/images?q=tbn:ANd9GcQukQOXi1_8qNuEu6ZlM5XIYDgn0scwG11LLaiVgV9W_gn9Tsa1&s', 'thumbnailWidth': 270, 'thumbnailHeight': 186, 'source': 'Tutorialspoint', 'domain': 'www.tutorialspoint.com', 'link': 'https://www.tutorialspoint.com/data_structures_algorithms/stack_algorithm.htm', 'googleUrl': 'https://www.google.com/imgres?imgurl=https%3A%2F%2Fwww.tutorialspoint.com%2Fdata_structures_algorithms%2Fimages%2Fstack_representation.jpg&tbnid=x6pHlbc0Rf5z9M&imgrefurl=https%3A%2F%2Fwww.tutorialspoint.com%2Fdata_structures_algorithms%2Fstack_algorithm.htm&docid=2lu1im2lTKNP1M&w=500&h=345&ved=2ahUKEwiw-_HsntKFAxUc5ckDHYX1DF4QM3oECF4QAA', 'position': 8}, {'title': 'The Stack Data Structure Explained | by Kurtis Pykes | Geek ...', 'imageUrl': 'https://miro.medium.com/v2/resize:fit:700/0*C6RadiU-E0YX3mt4.png', 'imageWidth': 350, 'imageHeight': 245, 'thumbnailUrl': 'https://encrypted-tbn0.gstatic.com/images?q=tbn:ANd9GcSCmwlr_DGr5WJCoJt6Z16jMp1M2Ew9Vr5v3KFBuT2wQYtQ7kA&s', 'thumbnailWidth': 268, 'thumbnailHeight': 188, 'source': 'Medium', 'domain': 'medium.com', 'link': 'https://medium.com/geekculture/the-stack-data-structure-explained-28fda4de4816', 'googleUrl': 'https://www.google.com/imgres?imgurl=https%3A%2F%2Fmiro.medium.com%2Fv2%2Fresize%3Afit%3A700%2F0*C6RadiU-E0YX3mt4.png&tbnid=MNaOnJoX_EzZEM&imgrefurl=https%3A%2F%2Fmedium.com%2Fgeekculture%2Fthe-stack-data-structure-explained-28fda4de4816&docid=1h7HQ50MTzPCYM&w=350&h=245&ved=2ahUKEwiw-_HsntKFAxUc5ckDHYX1DF4QM3oECF0QAA', 'position': 9}, {'title': 'Stack Operations Illustration, PUSH and POP | OUM Students ...', 'imageUrl': 'https://phaariz.files.wordpress.com/2009/10/stack-operations-push-and-pop.jpg', 'imageWidth': 645, 'imageHeight': 367, 'thumbnailUrl': 'https://encrypted-tbn0.gstatic.com/images?q=tbn:ANd9GcSWg3rIayRwh5CEKzZdUz4ZnE_-eSzr9x_ybscpYmBlJ05IqSDM&s', 'thumbnailWidth': 298, 'thumbnailHeight': 169, 'source': 'OUM Students from Maldives - WordPress.com', 'domain': 'phaariz.wordpress.com', 'link': 'https://phaariz.wordpress.com/2009/10/02/stack-operations-push-and-pop/', 'googleUrl': 'https://www.google.com/imgres?imgurl=https%3A%2F%2Fphaariz.files.wordpress.com%2F2009%2F10%2Fstack-operations-push-and-pop.jpg&tbnid=L6oxNwP3ZrB62M&imgrefurl=https%3A%2F%2Fphaariz.wordpress.com%2F2009%2F10%2F02%2Fstack-operations-push-and-pop%2F&docid=ZPoP8vob1b9FrM&w=645&h=367&ved=2ahUKEwiw-_HsntKFAxUc5ckDHYX1DF4QM3oECFwQAA', 'position': 10}]}\u001b[0m\u001b[36;1m\u001b[1;3m{'searchParameters': {'q': 'stack data structure diagram', 'gl': 'us', 'hl': 'en', 'type': 'images', 'num': 10, 'engine': 'google'}, 'images': [{'title': 'Stack Data Structure - GeeksforGeeks', 'imageUrl': 'https://media.geeksforgeeks.org/wp-content/cdn-uploads/20230726165552/Stack-Data-Structure.png', 'imageWidth': 1000, 'imageHeight': 500, 'thumbnailUrl': 'https://encrypted-tbn0.gstatic.com/images?q=tbn:ANd9GcTrr7hUu0PTKndyOGP17NaI6IkUdthM_tuXzxsFl-FzCzHlTAM&s', 'thumbnailWidth': 318, 'thumbnailHeight': 159, 'source': 'GeeksforGeeks', 'domain': 'www.geeksforgeeks.org', 'link': 'https://www.geeksforgeeks.org/stack-data-structure/', 'googleUrl': 'https://www.google.com/imgres?imgurl=https%3A%2F%2Fmedia.geeksforgeeks.org%2Fwp-content%2Fcdn-uploads%2F20230726165552%2FStack-Data-Structure.png&tbnid=zzj2ZQHZb6NWJM&imgrefurl=https%3A%2F%2Fwww.geeksforgeeks.org%2Fstack-data-structure%2F&docid=o2jC-3SzJVkxeM&w=1000&h=500&ved=1', 'position': 1}, {'title': 'Stack Data Structure', 'imageUrl': 'https://www.tutorialspoint.com/data_structures_algorithms/images/stack_representation.jpg', 'imageWidth': 500, 'imageHeight': 345, 'thumbnailUrl': 'https://encrypted-tbn0.gstatic.com/images?q=tbn:ANd9GcQukQOXi1_8qNuEu6ZlM5XIYDgn0scwG11LLaiVgV9W_gn9Tsa1&s', 'thumbnailWidth': 270, 'thumbnailHeight': 186, 'source': 'Tutorialspoint', 'domain': 'www.tutorialspoint.com', 'link': 'https://www.tutorialspoint.com/data_structures_algorithms/stack_algorithm.htm', 'googleUrl': 'https://www.google.com/imgres?imgurl=https%3A%2F%2Fwww.tutorialspoint.com%2Fdata_structures_algorithms%2Fimages%2Fstack_representation.jpg&tbnid=x6pHlbc0Rf5z9M&imgrefurl=https%3A%2F%2Fwww.tutorialspoint.com%2Fdata_structures_algorithms%2Fstack_algorithm.htm&docid=2lu1im2lTKNP1M&w=500&h=345&ved=2ahUKEwig7PPsntKFAxWQ5ckDHcXBAjsQM3oECGQQAA', 'position': 2}, {'title': 'Stack Data Structure | Studytonight', 'imageUrl': 'https://static.studytonight.com/data-structures/images/stack-data-structure.png', 'imageWidth': 450, 'imageHeight': 250, 'thumbnailUrl': 'https://encrypted-tbn0.gstatic.com/images?q=tbn:ANd9GcTCfPgTlWE6kPBouqtETOGPQZLXrcybYvjH5KAlFeoseBLhggk&s', 'thumbnailWidth': 301, 'thumbnailHeight': 167, 'source': 'Studytonight', 'domain': 'www.studytonight.com', 'link': 'https://www.studytonight.com/data-structures/stack-data-structure', 'googleUrl': 'https://www.google.com/imgres?imgurl=https%3A%2F%2Fstatic.studytonight.com%2Fdata-structures%2Fimages%2Fstack-data-structure.png&tbnid=UPbEjydAO4eJvM&imgrefurl=https%3A%2F%2Fwww.studytonight.com%2Fdata-structures%2Fstack-data-structure&docid=8-VemZVHNgsPMM&w=450&h=250&ved=2ahUKEwig7PPsntKFAxWQ5ckDHcXBAjsQM3oECGMQAA', 'position': 3}, {'title': 'Stack Data Structure and Implementation in Python, Java and ...', 'imageUrl': 'https://cdn.programiz.com/sites/tutorial2program/files/stack.png', 'imageWidth': 814, 'imageHeight': 482, 'thumbnailUrl': 'https://encrypted-tbn0.gstatic.com/images?q=tbn:ANd9GcSUFjb2q2_7-8RKtUtpr5NHPsrCAwY-CdtB-RSrTC76mLjSL2D1&s', 'thumbnailWidth': 292, 'thumbnailHeight': 173, 'source': 'Programiz', 'domain': 'www.programiz.com', 'link': 'https://www.programiz.com/dsa/stack', 'googleUrl': 'https://www.google.com/imgres?imgurl=https%3A%2F%2Fcdn.programiz.com%2Fsites%2Ftutorial2program%2Ffiles%2Fstack.png&tbnid=DQQEX7d1NhmJNM&imgrefurl=https%3A%2F%2Fwww.programiz.com%2Fdsa%2Fstack&docid=tV4-4-mw0fyy8M&w=814&h=482&ved=2ahUKEwig7PPsntKFAxWQ5ckDHcXBAjsQM3oECGIQAA', 'position': 4}, {'title': 'Stack Definition & Meaning in DSA - GeeksforGeeks', 'imageUrl': 'https://media.geeksforgeeks.org/wp-content/cdn-uploads/20221219100314/stack.drawio2.png', 'imageWidth': 651, 'imageHeight': 381, 'thumbnailUrl': 'https://encrypted-tbn0.gstatic.com/images?q=tbn:ANd9GcSEMc9qc__S8x0lCa6X3ulhopscdSpzOnO7PBBOx_RHvRbDB6aw&s', 'thumbnailWidth': 294, 'thumbnailHeight': 172, 'source': 'GeeksforGeeks', 'domain': 'www.geeksforgeeks.org', 'link': 'https://www.geeksforgeeks.org/stack-meaning-in-dsa/', 'googleUrl': 'https://www.google.com/imgres?imgurl=https%3A%2F%2Fmedia.geeksforgeeks.org%2Fwp-content%2Fcdn-uploads%2F20221219100314%2Fstack.drawio2.png&tbnid=fvctmfJepawFnM&imgrefurl=https%3A%2F%2Fwww.geeksforgeeks.org%2Fstack-meaning-in-dsa%2F&docid=FFQmLG2PU_0NCM&w=651&h=381&ved=2ahUKEwig7PPsntKFAxWQ5ckDHcXBAjsQM3oECGEQAA', 'position': 5}, {'title': 'Difference between Stack and Queue Data Structures ...', 'imageUrl': 'https://media.geeksforgeeks.org/wp-content/uploads/geek-stack-1.png', 'imageWidth': 700, 'imageHeight': 400, 'thumbnailUrl': 'https://encrypted-tbn0.gstatic.com/images?q=tbn:ANd9GcR3kdf492Ie2hMW1nMLiJQ3v3i13eljjo7ryGpr2113XN9Pv4CY&s', 'thumbnailWidth': 297, 'thumbnailHeight': 170, 'source': 'GeeksforGeeks', 'domain': 'www.geeksforgeeks.org', 'link': 'https://www.geeksforgeeks.org/difference-between-stack-and-queue-data-structures/', 'googleUrl': 'https://www.google.com/imgres?imgurl=https%3A%2F%2Fmedia.geeksforgeeks.org%2Fwp-content%2Fuploads%2Fgeek-stack-1.png&tbnid=ASCXvonYHYkDzM&imgrefurl=https%3A%2F%2Fwww.geeksforgeeks.org%2Fdifference-between-stack-and-queue-data-structures%2F&docid=-M-Whqo2t3VyCM&w=700&h=400&ved=2ahUKEwig7PPsntKFAxWQ5ckDHcXBAjsQM3oECGAQAA', 'position': 6}, {'title': 'Stack in Data Structure - DataFlair | Data structures, Data ...', 'imageUrl': 'https://i.pinimg.com/736x/b2/28/46/b22846d166536e24d5f199b16a3867c9.jpg', 'imageWidth': 700, 'imageHeight': 680, 'thumbnailUrl': 'https://encrypted-tbn0.gstatic.com/images?q=tbn:ANd9GcRlQ9z1BCVkxrdU4gBenyIiE2mP5pd6i2ar2xygEzhFX2iujw5M&s', 'thumbnailWidth': 228, 'thumbnailHeight': 221, 'source': 'Pinterest', 'domain': 'in.pinterest.com', 'link': 'https://in.pinterest.com/pin/stack-in-data-structure-dataflair--659918151780427170/', 'googleUrl': 'https://www.google.com/imgres?imgurl=https%3A%2F%2Fi.pinimg.com%2F736x%2Fb2%2F28%2F46%2Fb22846d166536e24d5f199b16a3867c9.jpg&tbnid=EJ5mg7sQrvli9M&imgrefurl=https%3A%2F%2Fin.pinterest.com%2Fpin%2Fstack-in-data-structure-dataflair--659918151780427170%2F&docid=sj3ktHVMxDzm-M&w=700&h=680&ved=2ahUKEwig7PPsntKFAxWQ5ckDHcXBAjsQM3oECF4QAA', 'position': 7}, {'title': 'What is Stack in Data Structure? - javatpoint', 'imageUrl': 'https://static.javatpoint.com/ds/images/ds-stack3.png', 'imageWidth': 500, 'imageHeight': 372, 'thumbnailUrl': 'https://encrypted-tbn0.gstatic.com/images?q=tbn:ANd9GcQuqAtCbEm627wu_jwbXHiPUkAYi8XqcP0_Ixg-tB42dqKIU4A&s', 'thumbnailWidth': 260, 'thumbnailHeight': 194, 'source': 'Javatpoint', 'domain': 'www.javatpoint.com', 'link': 'https://www.javatpoint.com/data-structure-stack', 'googleUrl': 'https://www.google.com/imgres?imgurl=https%3A%2F%2Fstatic.javatpoint.com%2Fds%2Fimages%2Fds-stack3.png&tbnid=xH6KVuKSmDI1iM&imgrefurl=https%3A%2F%2Fwww.javatpoint.com%2Fdata-structure-stack&docid=uHz35enAgTomYM&w=500&h=372&ved=2ahUKEwig7PPsntKFAxWQ5ckDHcXBAjsQM3oECF0QAA', 'position': 8}, {'title': 'Stack Data Structure | Board Infinity', 'imageUrl': 'https://www.boardinfinity.com/blog/content/images/2022/10/pictorial-representation-of-stack.png', 'imageWidth': 512, 'imageHeight': 333, 'thumbnailUrl': 'https://encrypted-tbn0.gstatic.com/images?q=tbn:ANd9GcTF21iuMsXbDfGAVd4DNQmuvPQUY40vywfW_yTokQX5UzvhRTE&s', 'thumbnailWidth': 278, 'thumbnailHeight': 181, 'source': 'Board Infinity', 'domain': 'www.boardinfinity.com', 'link': 'https://www.boardinfinity.com/blog/stacks-in-data-structure/', 'googleUrl': 'https://www.google.com/imgres?imgurl=https%3A%2F%2Fwww.boardinfinity.com%2Fblog%2Fcontent%2Fimages%2F2022%2F10%2Fpictorial-representation-of-stack.png&tbnid=BlDtqVCRr1sVMM&imgrefurl=https%3A%2F%2Fwww.boardinfinity.com%2Fblog%2Fstacks-in-data-structure%2F&docid=RfW00_kUJMYt9M&w=512&h=333&ved=2ahUKEwig7PPsntKFAxWQ5ckDHcXBAjsQM3oECFwQAA', 'position': 9}, {'title': 'Implementing the Stack Data Structure in Javascript - DEV ...', 'imageUrl': 'https://res.cloudinary.com/practicaldev/image/fetch/s--s1Qbl8Gf--/c_limit%2Cf_auto%2Cfl_progressive%2Cq_auto%2Cw_880/https://thepracticaldev.s3.amazonaws.com/i/mwcwre09s12vqa3gvl7a.png', 'imageWidth': 880, 'imageHeight': 680, 'thumbnailUrl': 'https://encrypted-tbn0.gstatic.com/images?q=tbn:ANd9GcSG5NYoW7eCZCWTJvJYDSbYugA2M6XbGRTRay8g-8tQV6Be_lPT&s', 'thumbnailWidth': 255, 'thumbnailHeight': 197, 'source': 'DEV Community', 'domain': 'dev.to', 'link': 'https://dev.to/theoutlander/implementing-the-stack-data-structure-in-javascript-4164', 'googleUrl': 'https://www.google.com/imgres?imgurl=https%3A%2F%2Fres.cloudinary.com%2Fpracticaldev%2Fimage%2Ffetch%2Fs--s1Qbl8Gf--%2Fc_limit%252Cf_auto%252Cfl_progressive%252Cq_auto%252Cw_880%2Fhttps%3A%2F%2Fthepracticaldev.s3.amazonaws.com%2Fi%2Fmwcwre09s12vqa3gvl7a.png&tbnid=UFxEdbbToogBcM&imgrefurl=https%3A%2F%2Fdev.to%2Ftheoutlander%2Fimplementing-the-stack-data-structure-in-javascript-4164&docid=ibPVRCTw6r2TuM&w=880&h=680&ved=2ahUKEwig7PPsntKFAxWQ5ckDHcXBAjsQM3oECFsQAA', 'position': 10}]}\u001b[0m\u001b[36;1m\u001b[1;3m{'searchParameters': {'q': 'LIFO (Last In First Out) concept', 'gl': 'us', 'hl': 'en', 'type': 'images', 'num': 10, 'engine': 'google'}, 'images': [{'title': 'LIFO (Last In First Out) - Definition, Importance & Example ...', 'imageUrl': 'https://www.mbaskool.com/2020_images/stories/dec_images/lifo.jpg', 'imageWidth': 600, 'imageHeight': 298, 'thumbnailUrl': 'https://encrypted-tbn0.gstatic.com/images?q=tbn:ANd9GcRbJyreZAePdoxvU9pH5VeuJOp4jKzjdWnobVxuAFigcpA_1ks&s', 'thumbnailWidth': 319, 'thumbnailHeight': 158, 'source': 'MBA Skool', 'domain': 'www.mbaskool.com', 'link': 'https://www.mbaskool.com/business-concepts/operations-logistics-supply-chain-terms/1666-lifo-last-in-first-out-inventory.html', 'googleUrl': 'https://www.google.com/imgres?imgurl=https%3A%2F%2Fwww.mbaskool.com%2F2020_images%2Fstories%2Fdec_images%2Flifo.jpg&tbnid=OUhTEE7K5YDAEM&imgrefurl=https%3A%2F%2Fwww.mbaskool.com%2Fbusiness-concepts%2Foperations-logistics-supply-chain-terms%2F1666-lifo-last-in-first-out-inventory.html&docid=d-cL5LIYOgn1EM&w=600&h=298&ved=1', 'position': 1}, {'title': 'LIFO (Last-In-First-Out) approach in Programming - GeeksforGeeks', 'imageUrl': 'https://media.geeksforgeeks.org/wp-content/uploads/LIFO.jpg', 'imageWidth': 393, 'imageHeight': 440, 'thumbnailUrl': 'https://encrypted-tbn0.gstatic.com/images?q=tbn:ANd9GcSMA_FMiJ24KljdoIdrjSHHRZPGm6NGO-S6USjhlvKQDIQKIbk&s', 'thumbnailWidth': 212, 'thumbnailHeight': 238, 'source': 'GeeksforGeeks', 'domain': 'www.geeksforgeeks.org', 'link': 'https://www.geeksforgeeks.org/lifo-last-in-first-out-approach-in-programming/', 'googleUrl': 'https://www.google.com/imgres?imgurl=https%3A%2F%2Fmedia.geeksforgeeks.org%2Fwp-content%2Fuploads%2FLIFO.jpg&tbnid=3hI0ceelq4ynSM&imgrefurl=https%3A%2F%2Fwww.geeksforgeeks.org%2Flifo-last-in-first-out-approach-in-programming%2F&docid=f6LtXmqtsXJIIM&w=393&h=440&ved=2ahUKEwjMhvPsntKFAxW038kDHS3JDk0QM3oECGQQAA', 'position': 2}, {'title': 'Last In, First Out (LIFO): The Inventory Cost Method Explained', 'imageUrl': 'https://www.investopedia.com/thmb/lWvzqjzkk6lm_2R1VvZ8XzYyOEw=/1500x0/filters:no_upscale():max_bytes(150000):strip_icc()/Last-In-First-Out-v1-da47bc6193f44fcda65e4618fb20fb09.png', 'imageWidth': 1500, 'imageHeight': 1000, 'thumbnailUrl': 'https://encrypted-tbn0.gstatic.com/images?q=tbn:ANd9GcSUxoA4FJF-KREo-F6Pi76Nc_nz5vQZnlP4mk2VpwCjj3ckSao&s', 'thumbnailWidth': 275, 'thumbnailHeight': 183, 'source': 'Investopedia', 'domain': 'www.investopedia.com', 'link': 'https://www.investopedia.com/terms/l/lifo.asp', 'googleUrl': 'https://www.google.com/imgres?imgurl=https%3A%2F%2Fwww.investopedia.com%2Fthmb%2FlWvzqjzkk6lm_2R1VvZ8XzYyOEw%3D%2F1500x0%2Ffilters%3Ano_upscale()%3Amax_bytes(150000)%3Astrip_icc()%2FLast-In-First-Out-v1-da47bc6193f44fcda65e4618fb20fb09.png&tbnid=ZNJa7omm1WZj_M&imgrefurl=https%3A%2F%2Fwww.investopedia.com%2Fterms%2Fl%2Flifo.asp&docid=apAyFxJ1t0H8sM&w=1500&h=1000&ved=2ahUKEwjMhvPsntKFAxW038kDHS3JDk0QM3oECGEQAA', 'position': 3}, {'title': 'Last In First Out (LIFO) | TaxEDU Glossary', 'imageUrl': 'https://taxfoundation.org/wp-content/uploads/2022/05/LIFO_FIFO_WeightedAvCost.png', 'imageWidth': 850, 'imageHeight': 852, 'thumbnailUrl': 'https://encrypted-tbn0.gstatic.com/images?q=tbn:ANd9GcQVTmcOtfYw-fdh1R6517kFDVBV1wxfffYG4C7rivhlccWi62tB&s', 'thumbnailWidth': 224, 'thumbnailHeight': 225, 'source': 'Tax Foundation', 'domain': 'taxfoundation.org', 'link': 'https://taxfoundation.org/taxedu/glossary/last-in-first-out-lifo/', 'googleUrl': 'https://www.google.com/imgres?imgurl=https%3A%2F%2Ftaxfoundation.org%2Fwp-content%2Fuploads%2F2022%2F05%2FLIFO_FIFO_WeightedAvCost.png&tbnid=4OmuspEOWQeHUM&imgrefurl=https%3A%2F%2Ftaxfoundation.org%2Ftaxedu%2Fglossary%2Flast-in-first-out-lifo%2F&docid=wFfLZGR9CsNkjM&w=850&h=852&ved=2ahUKEwjMhvPsntKFAxW038kDHS3JDk0QM3oECGIQAA', 'position': 4}, {'title': 'FIFO vs LIFO approach in Programming - GeeksforGeeks', 'imageUrl': 'https://media.geeksforgeeks.org/wp-content/uploads/FIFO.jpg', 'imageWidth': 462, 'imageHeight': 255, 'thumbnailUrl': 'https://encrypted-tbn0.gstatic.com/images?q=tbn:ANd9GcTgQQAjQ1tz-gjhmw3W-Oj2-xf6Hb1vK7SywCTNDNnKmiB0gx0&s', 'thumbnailWidth': 302, 'thumbnailHeight': 167, 'source': 'GeeksforGeeks', 'domain': 'www.geeksforgeeks.org', 'link': 'https://www.geeksforgeeks.org/fifo-vs-lifo-approach-in-programming/', 'googleUrl': 'https://www.google.com/imgres?imgurl=https%3A%2F%2Fmedia.geeksforgeeks.org%2Fwp-content%2Fuploads%2FFIFO.jpg&tbnid=OhjYMWvyOW-xtM&imgrefurl=https%3A%2F%2Fwww.geeksforgeeks.org%2Ffifo-vs-lifo-approach-in-programming%2F&docid=RBNVvMgKqFZw8M&w=462&h=255&ved=2ahUKEwjMhvPsntKFAxW038kDHS3JDk0QM3oECGAQAA', 'position': 5}, {'title': 'Last In, First Out (LIFO): Definition and Examples', 'imageUrl': 'https://www.strike.money/wp-content/uploads/2023/06/banner-8.jpg', 'imageWidth': 1640, 'imageHeight': 1030, 'thumbnailUrl': 'https://encrypted-tbn0.gstatic.com/images?q=tbn:ANd9GcTI2xmN4vGnHPdVIImyXa-XEA1g6DKhqwlKvL3fUkR3UU8oLpUh&s', 'thumbnailWidth': 283, 'thumbnailHeight': 178, 'source': 'Strike', 'domain': 'www.strike.money', 'link': 'https://www.strike.money/stock-market/last-in-first-out', 'googleUrl': 'https://www.google.com/imgres?imgurl=https%3A%2F%2Fwww.strike.money%2Fwp-content%2Fuploads%2F2023%2F06%2Fbanner-8.jpg&tbnid=LDH1nLE7ObFQJM&imgrefurl=https%3A%2F%2Fwww.strike.money%2Fstock-market%2Flast-in-first-out&docid=WmlM5Z8b6GBg9M&w=1640&h=1030&ved=2ahUKEwjMhvPsntKFAxW038kDHS3JDk0QM3oECGMQAA', 'position': 6}, {'title': 'FIFO and LIFO In Data Structures. LIFO(Last-In-First-Out ...', 'imageUrl': 'https://miro.medium.com/v2/resize:fit:1400/1*MCg4aL5r9im7xZi8SYskIw.png', 'imageWidth': 714, 'imageHeight': 594, 'thumbnailUrl': 'https://encrypted-tbn0.gstatic.com/images?q=tbn:ANd9GcS9h-m-xJGix3Mf1IxtUwa9pCKjaQo9GyJ0cFsPGp543pLqH4La&s', 'thumbnailWidth': 246, 'thumbnailHeight': 205, 'source': 'Medium', 'domain': 'medium.com', 'link': 'https://medium.com/@pramudaliyanage/fifo-and-lifo-in-data-structures-501696153327', 'googleUrl': 'https://www.google.com/imgres?imgurl=https%3A%2F%2Fmiro.medium.com%2Fv2%2Fresize%3Afit%3A1400%2F1*MCg4aL5r9im7xZi8SYskIw.png&tbnid=Q1AyCserBNWzJM&imgrefurl=https%3A%2F%2Fmedium.com%2F%40pramudaliyanage%2Ffifo-and-lifo-in-data-structures-501696153327&docid=sAdYjK7UqlLtDM&w=714&h=594&ved=2ahUKEwjMhvPsntKFAxW038kDHS3JDk0QM3oECF4QAA', 'position': 7}, {'title': 'FIFO vs. LIFO: 4 Differences | Spiceworks - Spiceworks', 'imageUrl': 'https://images.spiceworks.com/wp-content/uploads/2023/05/19105134/image-58-1024x258.png', 'imageWidth': 1024, 'imageHeight': 258, 'thumbnailUrl': 'https://encrypted-tbn0.gstatic.com/images?q=tbn:ANd9GcSlLS0AvFepLapb_mRcYCQ0wmF7yKAb2yyHtkahZUeOBv4X7TY&s', 'thumbnailWidth': 448, 'thumbnailHeight': 112, 'source': 'Spiceworks', 'domain': 'www.spiceworks.com', 'link': 'https://www.spiceworks.com/tech/devops/articles/fifo-vs-lifo/', 'googleUrl': 'https://www.google.com/imgres?imgurl=https%3A%2F%2Fimages.spiceworks.com%2Fwp-content%2Fuploads%2F2023%2F05%2F19105134%2Fimage-58-1024x258.png&tbnid=RhYbs_mksosXiM&imgrefurl=https%3A%2F%2Fwww.spiceworks.com%2Ftech%2Fdevops%2Farticles%2Ffifo-vs-lifo%2F&docid=MsAxiEmWDyhE9M&w=1024&h=258&ved=2ahUKEwjMhvPsntKFAxW038kDHS3JDk0QM3oECF8QAA', 'position': 8}, {'title': 'Last-In First-Out (LIFO) Method Summary and Forum - 12manage', 'imageUrl': 'https://www.12manage.com/images/picture_lifo.gif', 'imageWidth': 330, 'imageHeight': 395, 'thumbnailUrl': 'https://encrypted-tbn0.gstatic.com/images?q=tbn:ANd9GcSVHbbh8RQYoQuI1D7oD477Agw-iApl-VMSCCk0n0aAs-cp1TCs&s', 'thumbnailWidth': 205, 'thumbnailHeight': 246, 'source': '12Manage', 'domain': 'www.12manage.com', 'link': 'https://www.12manage.com/description_lifo.html', 'googleUrl': 'https://www.google.com/imgres?imgurl=https%3A%2F%2Fwww.12manage.com%2Fimages%2Fpicture_lifo.gif&tbnid=y9pceTA2mwE9lM&imgrefurl=https%3A%2F%2Fwww.12manage.com%2Fdescription_lifo.html&docid=lxwuQyVD3oFDnM&w=330&h=395&ved=2ahUKEwjMhvPsntKFAxW038kDHS3JDk0QM3oECFwQAA', 'position': 9}, {'title': 'FIFO vs LIFO in programming', 'imageUrl': 'https://cdn.devdojo.com/images/march2021/lifo.jpg', 'imageWidth': 1920, 'imageHeight': 1080, 'thumbnailUrl': 'https://encrypted-tbn0.gstatic.com/images?q=tbn:ANd9GcT1ieFeVA3v-a8EB9EQ3Hp5IJikmp56z3I5n_S2WN8DznMjDfQ&s', 'thumbnailWidth': 300, 'thumbnailHeight': 168, 'source': 'DevDojo', 'domain': 'devdojo.com', 'link': 'https://devdojo.com/tnylea/fifo-vs-lifo-in-programming', 'googleUrl': 'https://www.google.com/imgres?imgurl=https%3A%2F%2Fcdn.devdojo.com%2Fimages%2Fmarch2021%2Flifo.jpg&tbnid=fzhHDIeYDrSwGM&imgrefurl=https%3A%2F%2Fdevdojo.com%2Ftnylea%2Ffifo-vs-lifo-in-programming&docid=S-hvso-i6OBCGM&w=1920&h=1080&ved=2ahUKEwjMhvPsntKFAxW038kDHS3JDk0QM3oECF0QAA', 'position': 10}]}\u001b[0m\u001b[36;1m\u001b[1;3m{'searchParameters': {'q': 'real-life example of stack data structure', 'gl': 'us', 'hl': 'en', 'type': 'images', 'num': 10, 'engine': 'google'}, 'images': [{'title': 'What is the real time example of stack? - Quora', 'imageUrl': 'https://qph.cf2.quoracdn.net/main-qimg-253b842f7bf0cf8955080f1a74e6be68-lq', 'imageWidth': 602, 'imageHeight': 452, 'thumbnailUrl': 'https://encrypted-tbn0.gstatic.com/images?q=tbn:ANd9GcRPuUkLlVWQ_PRdS0Tn2S__m0CQl3ZoHsH5v9Ky0KgtG_W4yzcp&s', 'thumbnailWidth': 259, 'thumbnailHeight': 194, 'source': 'Quora', 'domain': 'www.quora.com', 'link': 'https://www.quora.com/What-is-the-real-time-example-of-stack', 'googleUrl': 'https://www.google.com/imgres?imgurl=https%3A%2F%2Fqph.cf2.quoracdn.net%2Fmain-qimg-253b842f7bf0cf8955080f1a74e6be68-lq&tbnid=wk1OFzZOZBbfAM&imgrefurl=https%3A%2F%2Fwww.quora.com%2FWhat-is-the-real-time-example-of-stack&docid=rgCJ8gPe44fGqM&w=602&h=452&ved=1', 'position': 1}, {'title': 'What is the real time example of stack? - Quora', 'imageUrl': 'https://qph.cf2.quoracdn.net/main-qimg-894afeff9d30c0cbe2866a79682ae79c-lq', 'imageWidth': 602, 'imageHeight': 452, 'thumbnailUrl': 'https://encrypted-tbn0.gstatic.com/images?q=tbn:ANd9GcTk3eLO3S0rIxZxVYKkdLkpCTW9wH7IgsIYtgOSrj0JG7tpw7D7&s', 'thumbnailWidth': 259, 'thumbnailHeight': 194, 'source': 'Quora', 'domain': 'www.quora.com', 'link': 'https://www.quora.com/What-is-the-real-time-example-of-stack', 'googleUrl': 'https://www.google.com/imgres?imgurl=https%3A%2F%2Fqph.cf2.quoracdn.net%2Fmain-qimg-894afeff9d30c0cbe2866a79682ae79c-lq&tbnid=_IGyFz_WWuQqpM&imgrefurl=https%3A%2F%2Fwww.quora.com%2FWhat-is-the-real-time-example-of-stack&docid=rgCJ8gPe44fGqM&w=602&h=452&ved=2ahUKEwiZ2vPsntKFAxWU5MkDHV5iAX0QM3oECGQQAA', 'position': 2}, {'title': 'Stack in C | Real Life Example of Stack', 'imageUrl': 'https://www.sitesbay.com/data-structure/images/stack.png', 'imageWidth': 390, 'imageHeight': 335, 'thumbnailUrl': 'https://encrypted-tbn0.gstatic.com/images?q=tbn:ANd9GcSzs_2VgJ127i0hnKVAw15rkdBZmS2WkLwofCfryvTVKTfCzEQ&s', 'thumbnailWidth': 242, 'thumbnailHeight': 208, 'source': 'Sitesbay', 'domain': 'www.sitesbay.com', 'link': 'https://www.sitesbay.com/data-structure/c-stack', 'googleUrl': 'https://www.google.com/imgres?imgurl=https%3A%2F%2Fwww.sitesbay.com%2Fdata-structure%2Fimages%2Fstack.png&tbnid=yUnx3jxotzeyyM&imgrefurl=https%3A%2F%2Fwww.sitesbay.com%2Fdata-structure%2Fc-stack&docid=PuvE-ItT6LuY-M&w=390&h=335&ved=2ahUKEwiZ2vPsntKFAxWU5MkDHV5iAX0QM3oECGAQAA', 'position': 3}, {'title': 'Applications of Stack in Data Structure - javatpoint', 'imageUrl': 'https://static.javatpoint.com/ds/images/applications-of-stack-in-data-structure.png', 'imageWidth': 850, 'imageHeight': 255, 'thumbnailUrl': 'https://encrypted-tbn0.gstatic.com/images?q=tbn:ANd9GcT5trHDYQnfoMznazNRkFEnyYQPwCuJWJdY4fndQtrZB86b2u_k&s', 'thumbnailWidth': 410, 'thumbnailHeight': 123, 'source': 'Javatpoint', 'domain': 'www.javatpoint.com', 'link': 'https://www.javatpoint.com/applications-of-stack-in-data-structure', 'googleUrl': 'https://www.google.com/imgres?imgurl=https%3A%2F%2Fstatic.javatpoint.com%2Fds%2Fimages%2Fapplications-of-stack-in-data-structure.png&tbnid=JaDrZ3_zf7jPjM&imgrefurl=https%3A%2F%2Fwww.javatpoint.com%2Fapplications-of-stack-in-data-structure&docid=69pb3BIDFMa3wM&w=850&h=255&ved=2ahUKEwiZ2vPsntKFAxWU5MkDHV5iAX0QM3oECGMQAA', 'position': 4}, {'title': 'Stack in Python. Stack in real life | by Md. Saddam Hossain ...', 'imageUrl': 'https://miro.medium.com/v2/resize:fit:888/1*6cutH3qqXoQk3DzXsEJc3w.png', 'imageWidth': 888, 'imageHeight': 554, 'thumbnailUrl': 'https://encrypted-tbn0.gstatic.com/images?q=tbn:ANd9GcSYur2TaYOfwahGzJsqad1Y5uDgjOIY61ayPVNC8nDPJ8YsSWY&s', 'thumbnailWidth': 284, 'thumbnailHeight': 177, 'source': 'Medium', 'domain': 'medium.com', 'link': 'https://medium.com/@saddamhr/stack-in-python-857bcffee7f', 'googleUrl': 'https://www.google.com/imgres?imgurl=https%3A%2F%2Fmiro.medium.com%2Fv2%2Fresize%3Afit%3A888%2F1*6cutH3qqXoQk3DzXsEJc3w.png&tbnid=104m2sdxhZiyfM&imgrefurl=https%3A%2F%2Fmedium.com%2F%40saddamhr%2Fstack-in-python-857bcffee7f&docid=67Vbct4crDrD4M&w=888&h=554&ved=2ahUKEwiZ2vPsntKFAxWU5MkDHV5iAX0QM3oECGIQAA', 'position': 5}, {'title': 'Real life applications of stacks in Data Structures| Stacks ...', 'imageUrl': 'https://i.ytimg.com/vi/XLi-kZQVG4A/mqdefault.jpg', 'imageWidth': 320, 'imageHeight': 180, 'thumbnailUrl': 'https://encrypted-tbn0.gstatic.com/images?q=tbn:ANd9GcTUtdCZuCRYv1bScca37k2fKnJDiB4-S8NviqRKpj9cxzA9ocg&s', 'thumbnailWidth': 300, 'thumbnailHeight': 168, 'source': 'YouTube', 'domain': 'www.youtube.com', 'link': 'https://www.youtube.com/watch?v=XLi-kZQVG4A', 'googleUrl': 'https://www.google.com/imgres?imgurl=https%3A%2F%2Fi.ytimg.com%2Fvi%2FXLi-kZQVG4A%2Fmqdefault.jpg&tbnid=d8HF7W13xzQZbM&imgrefurl=https%3A%2F%2Fwww.youtube.com%2Fwatch%3Fv%3DXLi-kZQVG4A&docid=qOySPtB43Q42pM&w=320&h=180&ved=2ahUKEwiZ2vPsntKFAxWU5MkDHV5iAX0QM3oECGEQAA', 'position': 6}, {'title': 'Stack Data Structure in Java', 'imageUrl': 'https://blogger.googleusercontent.com/img/b/R29vZ2xl/AVvXsEjXV3_2IzqLVr1yvWuaEGmA10qjIrV2TmKh1OskTasPYqo4ojASy-0QnBDzbos4FXkhqxJFCvdsJOQmW_CpE_6KGZ8Oud4YiNz4EDZS4TZW6qwjcL4QmCbwdkF0oxApudhBuEm8c9ZdWPs/s1600/stack-example3.PNG', 'imageWidth': 1000, 'imageHeight': 585, 'thumbnailUrl': 'https://encrypted-tbn0.gstatic.com/images?q=tbn:ANd9GcTsvZbj65z6KJPb_txJ7irwyvqaNz0Z2UiUt8Z4AQl2fT4HGIZy&s', 'thumbnailWidth': 294, 'thumbnailHeight': 172, 'source': 'Java Guides', 'domain': 'www.javaguides.net', 'link': 'https://www.javaguides.net/2018/09/stack-data-structure-in-java.html', 'googleUrl': 'https://www.google.com/imgres?imgurl=https%3A%2F%2Fblogger.googleusercontent.com%2Fimg%2Fb%2FR29vZ2xl%2FAVvXsEjXV3_2IzqLVr1yvWuaEGmA10qjIrV2TmKh1OskTasPYqo4ojASy-0QnBDzbos4FXkhqxJFCvdsJOQmW_CpE_6KGZ8Oud4YiNz4EDZS4TZW6qwjcL4QmCbwdkF0oxApudhBuEm8c9ZdWPs%2Fs1600%2Fstack-example3.PNG&tbnid=oshkUEZzTzvO0M&imgrefurl=https%3A%2F%2Fwww.javaguides.net%2F2018%2F09%2Fstack-data-structure-in-java.html&docid=QAHVQ55Vt329aM&w=1000&h=585&ved=2ahUKEwiZ2vPsntKFAxWU5MkDHV5iAX0QM3oECF8QAA', 'position': 7}, {'title': 'APPLICATION OF STACK IN DATA STRUCTURE', 'imageUrl': 'https://media.licdn.com/dms/image/D5612AQHPZZxFNJpxhg/article-cover_image-shrink_600_2000/0/1697625183238?e=2147483647&v=beta&t=gHgb_oQYQL-NBh0vL_4jWrwK8Mtq4w-ISc1t0kht_zg', 'imageWidth': 647, 'imageHeight': 323, 'thumbnailUrl': 'https://encrypted-tbn0.gstatic.com/images?q=tbn:ANd9GcQECE8tYMZHgPjCAABUpXW-gx28_3Re8xSn0QT2-vUGoFiC6Dc&s', 'thumbnailWidth': 318, 'thumbnailHeight': 158, 'source': 'LinkedIn', 'domain': 'www.linkedin.com', 'link': 'https://www.linkedin.com/pulse/application-stack-data-structure-kamalakkannan-r-hlvyc', 'googleUrl': 'https://www.google.com/imgres?imgurl=https%3A%2F%2Fmedia.licdn.com%2Fdms%2Fimage%2FD5612AQHPZZxFNJpxhg%2Farticle-cover_image-shrink_600_2000%2F0%2F1697625183238%3Fe%3D2147483647%26v%3Dbeta%26t%3DgHgb_oQYQL-NBh0vL_4jWrwK8Mtq4w-ISc1t0kht_zg&tbnid=prKP7sBq-pESpM&imgrefurl=https%3A%2F%2Fwww.linkedin.com%2Fpulse%2Fapplication-stack-data-structure-kamalakkannan-r-hlvyc&docid=9cd_kvn2VwQlpM&w=647&h=323&ved=2ahUKEwiZ2vPsntKFAxWU5MkDHV5iAX0QM3oECF4QAA', 'position': 8}, {'title': 'Stack data structure | SESV Tutorial', 'imageUrl': 'https://www.sesvtutorial.com/static/28a9f7a66db74267ca1084db8f08392a/e9c0d/stack.png', 'imageWidth': 2413, 'imageHeight': 911, 'thumbnailUrl': 'https://encrypted-tbn0.gstatic.com/images?q=tbn:ANd9GcSgsuEn1Baz9uzZMtfh7h5jY0iP0xyen6bdNipABtrNnV8eyFw&s', 'thumbnailWidth': 366, 'thumbnailHeight': 138, 'source': 'SESV Tutorial', 'domain': 'www.sesvtutorial.com', 'link': 'https://www.sesvtutorial.com/stack-data-structure/', 'googleUrl': 'https://www.google.com/imgres?imgurl=https%3A%2F%2Fwww.sesvtutorial.com%2Fstatic%2F28a9f7a66db74267ca1084db8f08392a%2Fe9c0d%2Fstack.png&tbnid=01WzWVtDSY1zwM&imgrefurl=https%3A%2F%2Fwww.sesvtutorial.com%2Fstack-data-structure%2F&docid=7tH80US_K1h85M&w=2413&h=911&ved=2ahUKEwiZ2vPsntKFAxWU5MkDHV5iAX0QM3oECF0QAA', 'position': 9}, {'title': 'What is the real time example of stack? - Quora', 'imageUrl': 'https://qph.cf2.quoracdn.net/main-qimg-abf0634496b7412bef7f857f9457b003.webp', 'imageWidth': 338, 'imageHeight': 450, 'thumbnailUrl': 'https://encrypted-tbn0.gstatic.com/images?q=tbn:ANd9GcT9UAoKT_ZyN2gp8SXJR4JW8OluXhVs3QobguD6FPwNqCdF9HX0&s', 'thumbnailWidth': 194, 'thumbnailHeight': 259, 'source': 'Quora', 'domain': 'www.quora.com', 'link': 'https://www.quora.com/What-is-the-real-time-example-of-stack', 'googleUrl': 'https://www.google.com/imgres?imgurl=https%3A%2F%2Fqph.cf2.quoracdn.net%2Fmain-qimg-abf0634496b7412bef7f857f9457b003.webp&tbnid=Q2yymg0PVd-oJM&imgrefurl=https%3A%2F%2Fwww.quora.com%2FWhat-is-the-real-time-example-of-stack&docid=rgCJ8gPe44fGqM&w=338&h=450&ved=2ahUKEwiZ2vPsntKFAxWU5MkDHV5iAX0QM3oECFwQAA', 'position': 10}]}\u001b[0m\u001b[32;1m\u001b[1;3m\n",
      "Invoking: `get_descriptions` with `{'prompt': 'stacks in data structures', 'images': ['https://media.geeksforgeeks.org/wp-content/cdn-uploads/20230726165552/Stack-Data-Structure.png', 'https://homework.study.com/cimages/multimages/16/stack_push_operation2294814496370743228.jpg', 'https://www.mbaskool.com/2020_images/stories/dec_images/lifo.jpg', 'https://www.sitesbay.com/data-structure/images/stack.png']}`\n",
      "\n",
      "\n",
      "\u001b[0m\u001b[33;1m\u001b[1;3m['https://media.geeksforgeeks.org/wp-content/cdn-uploads/20230726165552/Stack-Data-Structure.png: This image illustrates the concept of a stack data structure, showing the \"push\" operation where an element \\'C\\' is added to the top of a stack containing elements \\'A\\' and \\'B\\', and the \"pop\" operation where the top element \\'C\\' is removed from the stack. It effectively visualizes the Last-In-First-Out (LIFO) principle of the stack, where the last element added is the first one to be removed, relevant to understanding basic data structures in computer science.', 'https://homework.study.com/cimages/multimages/16/stack_push_operation2294814496370743228.jpg: The image illustrates a \"Push Operation\" in a data structure known as a stack, showing how a new element (\\'E\\') is added to the top of the stack. On the left side, element \\'E\\' is outside the stack; after the operation, as shown on the right side, \\'E\\' becomes the top element of the stack, demonstrating a Last In, First Out (LIFO) behavior.', 'https://www.mbaskool.com/2020_images/stories/dec_images/lifo.jpg: The image illustrates the Last In First Out (LIFO) method of inventory management, showing how items are added and removed from storage. On the left, items 1, 2, and 3 are sequentially entered into a storage unit, and on the right, they are removed in reverse order (3, 2, 1), exemplifying the LIFO principle where the most recently stored item is the first to be taken out.', 'https://www.sitesbay.com/data-structure/images/stack.png: This image depicts a diagram of a stack data structure, illustrating the \"push\" operation at the top where elements are added into the stack, and the \"pop\" operation where elements are removed from the top. The image is relevant to a prompt that could be asking for an explanation or an illustration of how stack operations work, as it visually summarizes the Last In, First Out (LIFO) principle that underpins stack functionality.']\u001b[0m\u001b[32;1m\u001b[1;3mHere are four images that are suitable for a lecture slide on stacks in data structures:\n",
      "\n",
      "1. **Stack Data Structure Diagram**:\n",
      "   ![Stack Data Structure Diagram](https://media.geeksforgeeks.org/wp-content/cdn-uploads/20230726165552/Stack-Data-Structure.png)\n",
      "   - This image illustrates the concept of a stack data structure, showing the \"push\" operation where an element 'C' is added to the top of a stack containing elements 'A' and 'B', and the \"pop\" operation where the top element 'C' is removed from the stack. It effectively visualizes the Last-In-First-Out (LIFO) principle of the stack, where the last element added is the first one to be removed, relevant to understanding basic data structures in computer science.\n",
      "\n",
      "2. **Stack Operations - Push and Pop**:\n",
      "   ![Stack Operations - Push and Pop](https://homework.study.com/cimages/multimages/16/stack_push_operation2294814496370743228.jpg)\n",
      "   - The image illustrates a \"Push Operation\" in a data structure known as a stack, showing how a new element ('E') is added to the top of the stack. On the left side, element 'E' is outside the stack; after the operation, as shown on the right side, 'E' becomes the top element of the stack, demonstrating a Last In, First Out (LIFO) behavior.\n",
      "\n",
      "3. **LIFO (Last In First Out) Concept**:\n",
      "   ![LIFO Concept](https://www.mbaskool.com/2020_images/stories/dec_images/lifo.jpg)\n",
      "   - The image illustrates the Last In First Out (LIFO) method of inventory management, showing how items are added and removed from storage. On the left, items 1, 2, and 3 are sequentially entered into a storage unit, and on the right, they are removed in reverse order (3, 2, 1), exemplifying the LIFO principle where the most recently stored item is the first to be taken out.\n",
      "\n",
      "4. **Real-life Example of Stack Data Structure**:\n",
      "   ![Real-life Example of Stack](https://www.sitesbay.com/data-structure/images/stack.png)\n",
      "   - This image depicts a diagram of a stack data structure, illustrating the \"push\" operation at the top where elements are added into the stack, and the \"pop\" operation where elements are removed from the top. The image is relevant to a prompt that could be asking for an explanation or an illustration of how stack operations work, as it visually summarizes the Last In, First Out (LIFO) principle that underpins stack functionality.\n",
      "\n",
      "These images collectively provide a comprehensive visual aid for understanding the concept of stacks in data structures, highlighting both theoretical and practical aspects.\u001b[0m\n",
      "\n",
      "\u001b[1m> Finished chain.\u001b[0m\n",
      "Here are four images that are suitable for a lecture slide on stacks in data structures:\n",
      "\n",
      "1. **Stack Data Structure Diagram**:\n",
      "   ![Stack Data Structure Diagram](https://media.geeksforgeeks.org/wp-content/cdn-uploads/20230726165552/Stack-Data-Structure.png)\n",
      "   - This image illustrates the concept of a stack data structure, showing the \"push\" operation where an element 'C' is added to the top of a stack containing elements 'A' and 'B', and the \"pop\" operation where the top element 'C' is removed from the stack. It effectively visualizes the Last-In-First-Out (LIFO) principle of the stack, where the last element added is the first one to be removed, relevant to understanding basic data structures in computer science.\n",
      "\n",
      "2. **Stack Operations - Push and Pop**:\n",
      "   ![Stack Operations - Push and Pop](https://homework.study.com/cimages/multimages/16/stack_push_operation2294814496370743228.jpg)\n",
      "   - The image illustrates a \"Push Operation\" in a data structure known as a stack, showing how a new element ('E') is added to the top of the stack. On the left side, element 'E' is outside the stack; after the operation, as shown on the right side, 'E' becomes the top element of the stack, demonstrating a Last In, First Out (LIFO) behavior.\n",
      "\n",
      "3. **LIFO (Last In First Out) Concept**:\n",
      "   ![LIFO Concept](https://www.mbaskool.com/2020_images/stories/dec_images/lifo.jpg)\n",
      "   - The image illustrates the Last In First Out (LIFO) method of inventory management, showing how items are added and removed from storage. On the left, items 1, 2, and 3 are sequentially entered into a storage unit, and on the right, they are removed in reverse order (3, 2, 1), exemplifying the LIFO principle where the most recently stored item is the first to be taken out.\n",
      "\n",
      "4. **Real-life Example of Stack Data Structure**:\n",
      "   ![Real-life Example of Stack](https://www.sitesbay.com/data-structure/images/stack.png)\n",
      "   - This image depicts a diagram of a stack data structure, illustrating the \"push\" operation at the top where elements are added into the stack, and the \"pop\" operation where elements are removed from the top. The image is relevant to a prompt that could be asking for an explanation or an illustration of how stack operations work, as it visually summarizes the Last In, First Out (LIFO) principle that underpins stack functionality.\n",
      "\n",
      "These images collectively provide a comprehensive visual aid for understanding the concept of stacks in data structures, highlighting both theoretical and practical aspects.\n"
     ]
    }
   ],
   "source": [
    "topic = \"Slide on stacks in data structures\"\n",
    "\n",
    "response = await executor.ainvoke({\n",
    "    \"input\": topic,\n",
    "})\n",
    "print(response['output'])"
   ]
  },
  {
   "cell_type": "code",
   "execution_count": 74,
   "metadata": {},
   "outputs": [
    {
     "name": "stdout",
     "output_type": "stream",
     "text": [
      "{\n",
      "    \"images\":[\n",
      "        {\n",
      "            \"src\": \"https://media.geeksforgeeks.org/wp-content/cdn-uploads/20230726165552/Stack-Data-Structure.png\",\n",
      "            \"description\": \"This image illustrates the concept of a stack data structure, showing the 'push' operation where an element 'C' is added to the top of a stack containing elements 'A' and 'B', and the 'pop' operation where the top element 'C' is removed from the stack. It effectively visualizes the Last-In-First-Out (LIFO) principle of the stack, where the last element added is the first one to be removed, relevant to understanding basic data structures in computer science.\"\n",
      "        },\n",
      "        {\n",
      "            \"src\": \"https://homework.study.com/cimages/multimages/16/stack_push_operation2294814496370743228.jpg\",\n",
      "            \"description\": \"The image illustrates a 'Push Operation' in a data structure known as a stack, showing how a new element ('E') is added to the top of the stack. On the left side, element 'E' is outside the stack; after the operation, as shown on the right side, 'E' becomes the top element of the stack, demonstrating a Last In, First Out (LIFO) behavior.\"\n",
      "        },\n",
      "        {\n",
      "            \"src\": \"https://www.sitesbay.com/data-structure/images/stack.png\",\n",
      "            \"description\": \"This image depicts a diagram of a stack data structure, illustrating the 'push' operation at the top where elements are added into the stack, and the 'pop' operation where elements are removed from the top. The image is relevant to a prompt that could be asking for an explanation or an illustration of how stack operations work, as it visually summarizes the Last In, First Out (LIFO) principle that underpins stack functionality.\"\n",
      "        }\n",
      "    ]\n",
      "}\n"
     ]
    }
   ],
   "source": [
    "num_images = 3\n",
    "\n",
    "client = AsyncOpenAI()\n",
    "\n",
    "output_format = \"\"\"\n",
    "Return in the following json format:\n",
    "\n",
    "{\n",
    "    images:[\n",
    "        {\n",
    "            src: \"image_url\",\n",
    "            description: \"description of the image\"\n",
    "        },\n",
    "        {\n",
    "            ...\n",
    "        }\n",
    "    ]\n",
    "}\n",
    "\"\"\"\n",
    "\n",
    "images = await client.chat.completions.create(\n",
    "    model=\"gpt-4-turbo\",\n",
    "    response_format={\"type\": \"json_object\"},\n",
    "    messages=[\n",
    "        {\n",
    "            \"role\": \"user\",\n",
    "            \"content\": f\"Images: {response['output']} \\n\\n Topic: {topic} \\n\\n From the images above, please select {num_images} images that you think are good for the given topic. \\n\\n {output_format}\"\n",
    "        }\n",
    "    ],\n",
    "    max_tokens=2000,\n",
    ")\n",
    "\n",
    "print(images.choices[0].message.content)"
   ]
  }
 ],
 "metadata": {
  "kernelspec": {
   "display_name": "teachme",
   "language": "python",
   "name": "python3"
  },
  "language_info": {
   "codemirror_mode": {
    "name": "ipython",
    "version": 3
   },
   "file_extension": ".py",
   "mimetype": "text/x-python",
   "name": "python",
   "nbconvert_exporter": "python",
   "pygments_lexer": "ipython3",
   "version": "3.10.13"
  }
 },
 "nbformat": 4,
 "nbformat_minor": 2
}
