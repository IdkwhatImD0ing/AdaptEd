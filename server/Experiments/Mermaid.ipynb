{
 "cells": [
  {
   "cell_type": "markdown",
   "metadata": {},
   "source": [
    "# Google Image\n",
    "This notebook is meant to create a agent that searches for google images based on a prompt, then returns the links to those images plus a brief description of those images."
   ]
  },
  {
   "cell_type": "code",
   "execution_count": 1,
   "metadata": {},
   "outputs": [
    {
     "data": {
      "text/plain": [
       "True"
      ]
     },
     "execution_count": 1,
     "metadata": {},
     "output_type": "execute_result"
    }
   ],
   "source": [
    "from openai import AsyncOpenAI\n",
    "import asyncio\n",
    "from nest_asyncio import apply\n",
    "apply()\n",
    "\n",
    "from dotenv import load_dotenv\n",
    "load_dotenv()"
   ]
  },
  {
   "cell_type": "code",
   "execution_count": 2,
   "metadata": {},
   "outputs": [],
   "source": [
    "system_prompt = \"\"\"\n",
    "You are a dedicated MermaidJS engineer specializing in creating easy to understand diagrams for lecture whiteboards.\n",
    "You will be given the description of a diagram and your task is to write the MermaidJS template to generate that diagram.\n",
    "You will be given a description of a diagram and your task is to write the MermaidJS template to generate that diagram. \n",
    "\n",
    "Only generate valid mermaid diagrams. You do not need to worry about edge cases like invalid syntax or infinite loops.\n",
    "Make the diagram simple, easy to understand and visually appealing with custom colors and styling.\n",
    "\n",
    "Example output:\n",
    "```mermaid\n",
    "graph TD\n",
    "    A[Christmas] -->|Get money| B(Go shopping)\n",
    "    B --> C{Let me think}\n",
    "    C -->|One| D[Laptop]\n",
    "    C -->|Two| E[iPhone]\n",
    "    C -->|Three| F[fa:fa-car Car]\n",
    "```\n",
    "\"\"\""
   ]
  },
  {
   "cell_type": "code",
   "execution_count": 3,
   "metadata": {},
   "outputs": [],
   "source": [
    "client = AsyncOpenAI()\n",
    "async def create_mermaid_diagram(prompt: str) -> str:\n",
    "    response = await client.chat.completions.create(\n",
    "        model=\"gpt-4-turbo\",\n",
    "        messages=[\n",
    "            {\n",
    "                \"role\": \"system\",\n",
    "                \"content\": system_prompt\n",
    "            },\n",
    "            {\n",
    "                \"role\": \"user\",\n",
    "                \"content\": prompt\n",
    "            }\n",
    "        ],\n",
    "        max_tokens=300,\n",
    "    )\n",
    "\n",
    "    return(response.choices[0].message.content)\n",
    "\n",
    "\n",
    "response = asyncio.run(create_mermaid_diagram(\"A complex diagram regarding the relationships between parts of a city.\"))"
   ]
  },
  {
   "cell_type": "code",
   "execution_count": 4,
   "metadata": {},
   "outputs": [
    {
     "name": "stdout",
     "output_type": "stream",
     "text": [
      "\n",
      "graph TB\n",
      "    City[City] --> Government[Government]\n",
      "    City --> Infrastructure[Infrastructure]\n",
      "    City --> Community[Community]\n",
      "    City --> Services[Public Services]\n",
      "    \n",
      "    Government --> Policy[Policy Making]\n",
      "    Government --> Maintenance[City Maintenance]\n",
      "    Government --> Finance[Financial Management]\n",
      "    \n",
      "    Infrastructure --> Transport[Transport Systems]\n",
      "    Infrastructure --> Utilities[Water & Electricity]\n",
      "    Infrastructure --> Roads[Roads & Bridges]\n",
      "    \n",
      "    Community --> Education[Schools & Universities]\n",
      "    Community --> Health[Health Services]\n",
      "    Community --> Recreation[Parks & Recreation Areas]\n",
      "    \n",
      "    Services --> Emergency[Emergency Services]\n",
      "    Services --> Waste[Waste Management]\n",
      "    Services --> HealthServices[Public Health]\n",
      "\n",
      "    style City fill:#f9f,stroke:#333,stroke-width:2px\n",
      "    style Government fill:#bbf,stroke:#333,stroke-width:2px\n",
      "    style Infrastructure fill:#fbf,stroke:#333,stroke-width:2px\n",
      "    style Community fill:#ccf,stroke:#333,stroke-width:2px\n",
      "    style Services fill:#bfb,stroke:#333,stroke-width:2px\n",
      "\n"
     ]
    }
   ],
   "source": [
    "if '```mermaid' in response:\n",
    "    response = response.split('```mermaid')[1]\n",
    "    response = response.split('```')[0]\n",
    "    \n",
    "print(response)"
   ]
  }
 ],
 "metadata": {
  "kernelspec": {
   "display_name": "teachme",
   "language": "python",
   "name": "python3"
  },
  "language_info": {
   "codemirror_mode": {
    "name": "ipython",
    "version": 3
   },
   "file_extension": ".py",
   "mimetype": "text/x-python",
   "name": "python",
   "nbconvert_exporter": "python",
   "pygments_lexer": "ipython3",
   "version": "3.10.13"
  }
 },
 "nbformat": 4,
 "nbformat_minor": 2
}
