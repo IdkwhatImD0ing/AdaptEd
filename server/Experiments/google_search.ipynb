{
 "cells": [
  {
   "cell_type": "code",
   "execution_count": 12,
   "metadata": {},
   "outputs": [],
   "source": [
    "from langchain_community.utilities import GoogleSerperAPIWrapper\n",
    "from langchain.agents import AgentType, Tool, AgentExecutor, create_tool_calling_agent\n",
    "from langchain_community.utilities import GoogleSerperAPIWrapper\n",
    "from langchain import hub\n",
    "from langchain_openai import ChatOpenAI\n",
    "from langchain.tools import tool\n",
    "from typing import List, Dict, Any\n",
    "from openai import AsyncOpenAI\n",
    "import asyncio\n",
    "from nest_asyncio import apply\n",
    "\n",
    "apply()\n",
    "\n",
    "from dotenv import load_dotenv\n",
    "\n",
    "load_dotenv()\n",
    "\n",
    "search = GoogleSerperAPIWrapper()\n",
    "\n",
    "search = GoogleSerperAPIWrapper()\n",
    "google_search = Tool(\n",
    "    name=\"google_search\",\n",
    "    func=search.results,\n",
    "    description=\"Searches Google for the input query\",\n",
    ")\n",
    "\n",
    "agent_prompt = \"\"\"\n",
    "You are agent in charge of finding reference links from google for a given topic.\n",
    "You are a lecture assistant, make sure to find one or two links that are relevant to the topic.\n",
    "\"\"\""
   ]
  },
  {
   "cell_type": "code",
   "execution_count": 13,
   "metadata": {},
   "outputs": [],
   "source": [
    "prompt = hub.pull(\"hwchase17/openai-tools-agent\")\n",
    "prompt.messages[0].prompt.template = agent_prompt\n",
    "llm = ChatOpenAI(temperature=0, model_name=\"gpt-4-turbo\")\n",
    "tools = [\n",
    "    google_search,\n",
    "]\n",
    "\n",
    "agent = create_tool_calling_agent(llm, tools, prompt)\n",
    "executor = AgentExecutor(agent=agent, tools=tools, verbose=True).with_config(\n",
    "    {\"run_name\": \"Assistant\"}\n",
    ")"
   ]
  },
  {
   "cell_type": "code",
   "execution_count": 14,
   "metadata": {},
   "outputs": [
    {
     "name": "stdout",
     "output_type": "stream",
     "text": [
      "\n",
      "\n",
      "\u001b[1m> Entering new AgentExecutor chain...\u001b[0m\n",
      "\u001b[32;1m\u001b[1;3m\n",
      "Invoking: `google_search` with `Stacks in data structures overview`\n",
      "\n",
      "\n",
      "\u001b[0m\u001b[32;1m\u001b[1;3m\n",
      "Invoking: `google_search` with `Stacks in data structures tutorial`\n",
      "\n",
      "\n",
      "\u001b[0m\u001b[36;1m\u001b[1;3m{'searchParameters': {'q': 'Stacks in data structures overview', 'gl': 'us', 'hl': 'en', 'type': 'search', 'num': 10, 'engine': 'google'}, 'answerBox': {'snippet': 'Stacks in Data Structures is a linear type of data structure that follows the LIFO (Last-In-First-Out) principle and allows insertion and deletion operations from one end of the stack data structure, that is top.', 'snippetHighlighted': ['a linear type of data structure that follows the LIFO (Last-In-First-Out) principle and allows insertion and deletion operations from one end of the stack data structure, that is top'], 'title': 'Implementing Stacks in Data Structures [Updated] - Simplilearn.com', 'link': 'https://www.simplilearn.com/tutorials/data-structure-tutorial/stacks-in-data-structures', 'date': 'Apr 10, 2023'}, 'organic': [{'title': 'Stack Data Structure - GeeksforGeeks', 'link': 'https://www.geeksforgeeks.org/stack-data-structure/', 'snippet': 'Stack is a linear data structure that follows a particular order in which the operations are performed. The order may be ; LIFO(Last In First Out) ...', 'date': 'Mar 30, 2024', 'position': 1}, {'title': \"Data Structures & Algorithms: A Beginner's Guide to Stacks\", 'link': 'https://rebeccaariss.medium.com/data-structures-algorithms-a-beginners-guide-to-stacks-3409d8928e1c', 'snippet': 'Stacks: The Basics. A stack is an abstract data type and a linear data structure from which we remove only the most recent element added.', 'date': 'Nov 5, 2023', 'position': 2}, {'title': 'What is a Stack Data Structure - An Introduction to Stacks - YouTube', 'link': 'https://www.youtube.com/watch?v=FNZ5o9S9prU', 'snippet': 'This tutorial covers the basic concepts and functions of a stack data structure. Want to learn C++ ...', 'date': 'Jan 14, 2013', 'attributes': {'Duration': '5:59', 'Posted': 'Jan 14, 2013'}, 'imageUrl': 'https://i.ytimg.com/vi/FNZ5o9S9prU/default.jpg?sqp=-oaymwEECHgQQw&rs=AMzJL3ksEl53-bYgHmOWYb18tMgxhDTJaQ', 'position': 3}, {'title': 'What is Stack? A Complete Tutorial - GeeksforGeeks', 'link': 'https://www.geeksforgeeks.org/introduction-to-stack-data-structure-and-algorithm-tutorials/', 'snippet': 'Stack is a linear data structure based on based on LIFO(Last In First Out) principle in which the insertion of a new element and removal of an ...', 'date': 'Apr 10, 2024', 'position': 4}, {'title': 'Stack Data Structure - Tutorialspoint', 'link': 'https://www.tutorialspoint.com/data_structures_algorithms/stack_algorithm.htm', 'snippet': 'A stack is a linear data structure where elements are stored in the LIFO (Last In First Out) principle where the last element inserted would be the first ...', 'position': 5}, {'title': 'Intro to Stacks – Data Structure and Algorithm Tutorial', 'link': 'https://www.freecodecamp.org/news/intro-to-stacks-data-structure-and-algorithm-tutorial/', 'snippet': 'It is a key data structure used in many programs and also coding challenges. Understanding stacks can help you in technical interviews. We just ...', 'date': 'Mar 19, 2024', 'position': 6}, {'title': 'What is Stack in Data Structure? - Javatpoint', 'link': 'https://www.javatpoint.com/data-structure-stack', 'snippet': 'A Stack is a linear data structure that follows the LIFO (Last-In-First-Out) principle. Stack has one end, whereas the Queue has two ends (front and rear).', 'position': 7}, {'title': 'Stack Data Structure and Implementation in Python, Java and C/C++', 'link': 'https://www.programiz.com/dsa/stack', 'snippet': 'A stack is a linear data structure that follows the principle of Last In First Out (LIFO). This means the last element inserted inside the stack is removed ...', 'position': 8}, {'title': 'Stack (abstract data type) - Wikipedia', 'link': 'https://en.wikipedia.org/wiki/Stack_(abstract_data_type)', 'snippet': 'In computer science, a stack is an abstract data type that serves as a collection of elements with two main operations: Push, which adds an element to the ...', 'position': 9}], 'peopleAlsoAsk': [{'question': 'What are stacks in data structure?', 'snippet': 'A Stack is a linear data structure that holds a linear, ordered sequence of elements. It is an abstract data type. A Stack works on the LIFO process (Last In First Out), i.e., the element that was inserted last will be removed first.', 'title': \"Stacks and Its Applications for GATE |Data Structures - BYJU'S\", 'link': 'https://byjus.com/gate/stack-and-its-applications/'}, {'question': 'What is the purpose of the stack?', 'snippet': 'Generally speaking, the Stack is a memory region within the program/process. This part of the memory gets allocated when a process is created. We use Stack for storing temporary data such as local variables of some function, environment variables which helps us to transition between the functions, etc.', 'title': 'Functions and the Stack (Part 7) - Azeria Labs', 'link': 'https://azeria-labs.com/functions-and-the-stack-part-7/'}, {'question': 'Are stacks known as data structures?', 'snippet': 'A stack is a limited access data structure - elements can be added and removed from the stack only at the top. push adds an item to the top of the stack, pop removes the item from the top. A helpful analogy is to think of a stack of books; you can remove only the top book, also you can add a new book on the top.', 'title': 'Stacks and Queues - andrew.cmu.ed', 'link': 'https://www.andrew.cmu.edu/course/15-121/lectures/Stacks%20and%20Queues/Stacks%20and%20Queues.html'}, {'question': 'Why do we use multiple stacks in data structure?', 'snippet': 'An important advantage of having multiple stacks is one of speed. Multiple stacks allow access to multiple values within a clock cycle. As an example, a machine that has simultaneous access to both a data stack and a return address stack can perform subroutine calls and returns in parallel with data operations.', 'title': '2.1 THE THREE AXIS STACK DESIGN SPACE - Stack Computers', 'link': 'https://users.ece.cmu.edu/~koopman/stack_computers/sec2_1.html'}], 'relatedSearches': [{'query': 'Queue in data structure'}, {'query': 'What is stack in data structure'}, {'query': 'Operations of stack in data structure'}, {'query': 'Stacks in data structures overview geeksforgeeks'}, {'query': 'What is stack in data structure with example'}, {'query': 'Implementation of stack in data structure'}, {'query': 'Types of stack in data structure'}, {'query': 'Application of stack in data structure'}]}\u001b[0m\u001b[36;1m\u001b[1;3m{'searchParameters': {'q': 'Stacks in data structures tutorial', 'gl': 'us', 'hl': 'en', 'type': 'search', 'num': 10, 'engine': 'google'}, 'answerBox': {'snippet': 'Stack is a linear data structure that follows a particular order in which the operations are performed. The order may be LIFO(Last In First Out) or FILO(First In Last Out). LIFO implies that the element that is inserted last, comes out first and FILO implies that the element that is inserted first, comes out last.', 'snippetHighlighted': ['Stack is a linear data structure that follows a particular order in which the operations are performed'], 'title': 'Stack Data Structure - GeeksforGeeks', 'link': 'https://www.geeksforgeeks.org/stack-data-structure/', 'date': 'Mar 30, 2024'}, 'organic': [{'title': 'What is Stack? A Complete Tutorial - GeeksforGeeks', 'link': 'https://www.geeksforgeeks.org/introduction-to-stack-data-structure-and-algorithm-tutorials/', 'snippet': 'Stack is a linear data structure based on based on LIFO(Last In First Out) principle in which the insertion of a new element and removal of an ...', 'date': 'Apr 10, 2024', 'sitelinks': [{'title': 'What is Stack?', 'link': 'https://www.geeksforgeeks.org/introduction-to-stack-data-structure-and-algorithm-tutorials/#what-is-stack'}, {'title': 'Representation of Stack Data...', 'link': 'https://www.geeksforgeeks.org/introduction-to-stack-data-structure-and-algorithm-tutorials/#representation-of-stack-data-structure'}, {'title': 'Stack Implementation', 'link': 'https://www.geeksforgeeks.org/introduction-to-stack-data-structure-and-algorithm-tutorials/#stack-implementation'}], 'position': 1}, {'title': 'Implementing Stacks in Data Structures [Updated] - Simplilearn.com', 'link': 'https://www.simplilearn.com/tutorials/data-structure-tutorial/stacks-in-data-structures', 'snippet': 'Real-life examples of a stack are a deck of cards, piles of books, piles of money, and many more. stack-of-book. This example allows you to ...', 'date': 'Apr 10, 2023', 'sitelinks': [{'title': 'Introduction to Stack in Data...', 'link': 'https://www.simplilearn.com/tutorials/data-structure-tutorial/stacks-in-data-structures#introduction_to_stack_in_data_structures'}, {'title': 'Working of Stack in Data...', 'link': 'https://www.simplilearn.com/tutorials/data-structure-tutorial/stacks-in-data-structures#working_of_stack_in_data_structures'}], 'position': 2}, {'title': 'Stack Data Structure - Tutorialspoint', 'link': 'https://www.tutorialspoint.com/data_structures_algorithms/stack_algorithm.htm', 'snippet': 'A stack is a linear data structure where elements are stored in the LIFO (Last In First Out) principle where the last element inserted would be the first ...', 'position': 3}, {'title': \"Data Structures & Algorithms: A Beginner's Guide to Stacks\", 'link': 'https://rebeccaariss.medium.com/data-structures-algorithms-a-beginners-guide-to-stacks-3409d8928e1c', 'snippet': 'Stacks: The Basics. A stack is an abstract data type and a linear data structure from which we remove only the most recent element added.', 'date': 'Nov 5, 2023', 'attributes': {'Missing': 'tutorial | Show results with:tutorial'}, 'sitelinks': [{'title': '📊 Data Structures: The...', 'link': 'https://rebeccaariss.medium.com/data-structures-algorithms-a-beginners-guide-to-stacks-3409d8928e1c#:~:text=%F0%9F%93%8A%20Data%20Structures%3A%20The%20Basics'}, {'title': 'Min Stack', 'link': 'https://rebeccaariss.medium.com/data-structures-algorithms-a-beginners-guide-to-stacks-3409d8928e1c#:~:text=Min%20Stack,-The%20purpose%20of%20a%20min'}, {'title': '📞 The Call Stack', 'link': 'https://rebeccaariss.medium.com/data-structures-algorithms-a-beginners-guide-to-stacks-3409d8928e1c#:~:text=%F0%9F%93%9E%20The%20Call%20Stack'}], 'position': 4}, {'title': 'Stack Data Structure and Implementation in Python, Java and C/C++', 'link': 'https://www.programiz.com/dsa/stack', 'snippet': 'A stack is a linear data structure that follows the principle of Last In First Out (LIFO). This means the last element inserted inside the stack is removed ...', 'sitelinks': [{'title': 'Stack Data Structure', 'link': 'https://www.programiz.com/dsa/stack#:~:text=Stack%20Data%20Structure,-A%20stack%20is%20a%20linear'}, {'title': 'Basic Operations Of Stack', 'link': 'https://www.programiz.com/dsa/stack#:~:text=Basic%20Operations%20of%20Stack'}, {'title': 'Working Of Stack Data...', 'link': 'https://www.programiz.com/dsa/stack#:~:text=Working%20of%20Stack%20Data%20Structure,-The%20operations%20work%20as%20follows'}], 'position': 5}, {'title': 'Introduction To Stack | Data Structure Tutorial | Simplilearn - YouTube', 'link': 'https://www.youtube.com/watch?v=rdmNr-9_RNY', 'snippet': 'Full Stack Developer (MERN Stack): ...', 'date': 'Apr 27, 2021', 'attributes': {'Duration': '14:17', 'Posted': 'Apr 27, 2021'}, 'imageUrl': 'https://i.ytimg.com/vi/rdmNr-9_RNY/default.jpg?sqp=-oaymwEECHgQQw&rs=AMzJL3lWe2um95pS_Mbi6pPL2Tc3aa3iEA', 'position': 6}, {'title': 'Intro to Stacks – Data Structure and Algorithm Tutorial', 'link': 'https://www.freecodecamp.org/news/intro-to-stacks-data-structure-and-algorithm-tutorial/', 'snippet': \"This section covers the internal workings of stacks, showcasing how to implement a stack in Java using arrays or linked lists. You'll explore ...\", 'date': 'Mar 19, 2024', 'position': 7}, {'title': 'Basics of Stacks Tutorials & Notes | Data Structures - HackerEarth', 'link': 'https://www.hackerearth.com/practice/data-structures/stacks/basics-of-stacks/tutorial/', 'snippet': 'Detailed tutorial on Basics of Stacks to improve your understanding of Data Structures. Also try practice problems to test & improve your skill level.', 'position': 8}, {'title': 'What is a Stack Data Structure - An Introduction to Stacks - YouTube', 'link': 'https://www.youtube.com/watch?v=FNZ5o9S9prU', 'snippet': 'This tutorial covers the basic concepts and functions of a stack data structure. Want to learn ...', 'date': 'Jan 14, 2013', 'attributes': {'Duration': '5:59', 'Posted': 'Jan 14, 2013'}, 'imageUrl': 'https://i.ytimg.com/vi/FNZ5o9S9prU/default.jpg?sqp=-oaymwEECHgQQw&rs=AMzJL3ksEl53-bYgHmOWYb18tMgxhDTJaQ', 'position': 9}], 'peopleAlsoAsk': [{'question': 'How do you explain stack data structure?', 'snippet': 'A Stack is a linear data structure that holds a linear, ordered sequence of elements. It is an abstract data type. A Stack works on the LIFO process (Last In First Out), i.e., the element that was inserted last will be removed first.', 'title': \"Stacks and Its Applications for GATE |Data Structures - BYJU'S\", 'link': 'https://byjus.com/gate/stack-and-its-applications/'}, {'question': 'What are the 2 types of stack data structures?', 'snippet': 'You can perform the implementation of stacks in data structures using two data structures that are an array and a linked list. Array: In array implementation, the stack is formed using an array. All the operations are performed using arrays.\\nApr 10, 2023', 'title': 'Implementing Stacks in Data Structures [Updated] - Simplilearn.com', 'link': 'https://www.simplilearn.com/tutorials/data-structure-tutorial/stacks-in-data-structures'}, {'question': 'How to learn stacks?', 'snippet': 'Main methods of a stack data structure The stack data structure has three main methods: push() , pop() and peek() . The push() method adds a node to the top of the stack. The pop() method removes a node from the top of the stack. The peek() method returns the value of the top node without removing it from the stack.', 'title': 'Learn Stacks Cheatsheet - Linear Data Structures - Codecademy', 'link': 'https://www.codecademy.com/learn/linear-data-structures/modules/cspath-stacks/cheatsheet'}, {'question': 'What are the examples of using stack data structure?', 'snippet': 'HERE ARE SOME EXAMPLES OF POPULAR APPLICATIONS OF THE STACK IN DATA STRUCTURES AND ALGORITHMS.\\nBack and forward buttons in a web browser. ...\\nUNDO/REDO functionality in text editors and image editing software. ...\\nMemory management in computer programming. ...\\nDelimiter checking. ...\\nImplementing recursion in programming.', 'title': 'Real-life Applications of Stack Data Structure - EnjoyAlgorithms', 'link': 'https://www.enjoyalgorithms.com/blog/application-of-stack-data-structure-in-programming/'}], 'relatedSearches': [{'query': 'Queue in data structure'}, {'query': 'Stack in data structure'}, {'query': 'Stacks in data structures tutorial for beginners'}, {'query': 'Operations of stack in data structure'}, {'query': 'Stack in data structure example'}, {'query': 'Stacks in data structures tutorial geeksforgeeks'}, {'query': 'Types of stack in data structure'}, {'query': 'Application of stack in data structure'}]}\u001b[0m\u001b[32;1m\u001b[1;3mHere are two useful links that provide comprehensive information about stacks in data structures:\n",
      "\n",
      "1. **GeeksforGeeks - Stack Data Structure**: This tutorial covers the basics of stack data structures, including the LIFO principle and operations like push and pop. It's a great resource for understanding the fundamental concepts and operations of stacks.\n",
      "   [GeeksforGeeks - Stack Data Structure](https://www.geeksforgeeks.org/stack-data-structure/)\n",
      "\n",
      "2. **Simplilearn - Implementing Stacks in Data Structures**: This guide offers an updated overview of implementing stacks, including real-life examples and detailed explanations of how stacks work in data structures.\n",
      "   [Simplilearn - Implementing Stacks in Data Structures](https://www.simplilearn.com/tutorials/data-structure-tutorial/stacks-in-data-structures)\n",
      "\n",
      "These resources should provide a solid foundation for understanding and working with stacks in various programming and data structure contexts.\u001b[0m\n",
      "\n",
      "\u001b[1m> Finished chain.\u001b[0m\n",
      "Here are two useful links that provide comprehensive information about stacks in data structures:\n",
      "\n",
      "1. **GeeksforGeeks - Stack Data Structure**: This tutorial covers the basics of stack data structures, including the LIFO principle and operations like push and pop. It's a great resource for understanding the fundamental concepts and operations of stacks.\n",
      "   [GeeksforGeeks - Stack Data Structure](https://www.geeksforgeeks.org/stack-data-structure/)\n",
      "\n",
      "2. **Simplilearn - Implementing Stacks in Data Structures**: This guide offers an updated overview of implementing stacks, including real-life examples and detailed explanations of how stacks work in data structures.\n",
      "   [Simplilearn - Implementing Stacks in Data Structures](https://www.simplilearn.com/tutorials/data-structure-tutorial/stacks-in-data-structures)\n",
      "\n",
      "These resources should provide a solid foundation for understanding and working with stacks in various programming and data structure contexts.\n"
     ]
    }
   ],
   "source": [
    "topic = \"Stacks in data structures\"\n",
    "\n",
    "response = await executor.ainvoke(\n",
    "    {\n",
    "        \"input\": topic,\n",
    "    }\n",
    ")\n",
    "print(response[\"output\"])"
   ]
  },
  {
   "cell_type": "code",
   "execution_count": 17,
   "metadata": {},
   "outputs": [
    {
     "name": "stdout",
     "output_type": "stream",
     "text": [
      "{\n",
      "    \"links\": [\n",
      "        {\n",
      "            \"url\": \"https://www.geeksforgeeks.org/stack-data-structure/\",\n",
      "            \"title\": \"GeeksforGeeks - Stack Data Structure\"\n",
      "        },\n",
      "        {\n",
      "            \"url\": \"https://www.simplilearn.com/tutorials/data-structure-tutorial/stacks-in-data-structures\",\n",
      "            \"title\": \"Simplilearn - Implementing Stacks in Data Structures\"\n",
      "        }\n",
      "    ]\n",
      "}\n"
     ]
    }
   ],
   "source": [
    "client = AsyncOpenAI()\n",
    "\n",
    "output_format = \"\"\"\n",
    "Return in the following json format:\n",
    "\n",
    "{\n",
    "    links:[\n",
    "        {\n",
    "            \"url\": url\n",
    "            \"title\": title\n",
    "        },\n",
    "        {\n",
    "            ...\n",
    "        }\n",
    "    ]\n",
    "}\n",
    "\"\"\"\n",
    "\n",
    "links = await client.chat.completions.create(\n",
    "    model=\"gpt-4-turbo\",\n",
    "    response_format={\"type\": \"json_object\"},\n",
    "    messages=[\n",
    "        {\n",
    "            \"role\": \"user\",\n",
    "            \"content\": f\"Links: {response['output']} \\n\\n Format the previous links in json format: {output_format}\",\n",
    "        }\n",
    "    ],\n",
    "    max_tokens=1000,\n",
    ")\n",
    "\n",
    "print(links.choices[0].message.content)"
   ]
  }
 ],
 "metadata": {
  "kernelspec": {
   "display_name": "teachme",
   "language": "python",
   "name": "python3"
  },
  "language_info": {
   "codemirror_mode": {
    "name": "ipython",
    "version": 3
   },
   "file_extension": ".py",
   "mimetype": "text/x-python",
   "name": "python",
   "nbconvert_exporter": "python",
   "pygments_lexer": "ipython3",
   "version": "3.10.13"
  }
 },
 "nbformat": 4,
 "nbformat_minor": 2
}
