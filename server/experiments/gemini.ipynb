{
 "cells": [
  {
   "cell_type": "markdown",
   "metadata": {},
   "source": [
    "<h1>YouTube</h1>"
   ]
  },
  {
   "cell_type": "markdown",
   "metadata": {},
   "source": [
    "<h2>Download YouTube Video</h2>"
   ]
  },
  {
   "cell_type": "markdown",
   "metadata": {},
   "source": [
    "<h3>Sanitize YouTube video title to use in file names</h3>"
   ]
  },
  {
   "cell_type": "code",
   "execution_count": 22,
   "metadata": {},
   "outputs": [],
   "source": [
    "import re\n",
    "\n",
    "def sanitize_filename(title):\n",
    "    \"\"\"Sanitize the string to be safe for filenames.\"\"\"\n",
    "    # Remove any character that is not alphanumeric, a space, underscore, or hyphen\n",
    "    sanitized = re.sub(r'[^\\w\\s-]', '', title)\n",
    "    # Replace spaces or multiple hyphens with a single hyphen\n",
    "    sanitized = re.sub(r'\\s+', '-', sanitized).strip('-_')\n",
    "    return sanitized"
   ]
  },
  {
   "cell_type": "code",
   "execution_count": 23,
   "metadata": {},
   "outputs": [],
   "source": [
    "from pytube import YouTube\n",
    "\n",
    "def download_youtube_video(url, path):\n",
    "    print(f\"Downloading content from {url}...\")\n",
    "    yt = YouTube(url)\n",
    "\n",
    "    # Sanitize the video title to create a valid filename\n",
    "    base_filename = sanitize_filename(yt.title)\n",
    "\n",
    "    if not os.path.exists(path):\n",
    "        os.makedirs(path)\n",
    "\n",
    "    # Download the video at 720p resolution\n",
    "    video_filename = f\"{base_filename}.mp4\"\n",
    "    video_stream = yt.streams.filter(file_extension='mp4', res=\"720p\").first()\n",
    "\n",
    "    video_path = video_stream.download(output_path=path, filename=video_filename)\n",
    "    print(f\"Video downloaded to {video_path}\")\n",
    "\n",
    "    # Download the best audio stream and save it as an MP4 (which is what pytube does natively)\n",
    "    audio_filename = f\"{base_filename}.mp3\"\n",
    "    audio_stream = yt.streams.filter(only_audio=True).first()\n",
    "    audio_path = audio_stream.download(output_path=path, filename=audio_filename)\n",
    "    print(f\"Audio downloaded to {audio_path}\")\n",
    "    \n",
    "    return video_path, audio_path"
   ]
  },
  {
   "cell_type": "markdown",
   "metadata": {},
   "source": [
    "<h2>Get Frames From Video</h2>"
   ]
  },
  {
   "cell_type": "markdown",
   "metadata": {},
   "source": [
    "<h3>Create directory if it doesn't exist</h3>"
   ]
  },
  {
   "cell_type": "code",
   "execution_count": 24,
   "metadata": {},
   "outputs": [],
   "source": [
    "import os\n",
    "import shutil \n",
    "\n",
    "def create_frame_output_dir(output_dir):\n",
    "    if not os.path.exists(output_dir):\n",
    "        os.makedirs(output_dir)\n",
    "    else:\n",
    "        shutil.rmtree(output_dir)\n",
    "        os.makedirs(output_dir)"
   ]
  },
  {
   "cell_type": "code",
   "execution_count": 25,
   "metadata": {},
   "outputs": [],
   "source": [
    "import cv2\n",
    "\n",
    "def extract_frame_from_video(video_file_path):\n",
    "    print(f\"Extracting {video_file_path} at 1 frame per second. This might take a bit...\")\n",
    "    #get the name of the file from the path\n",
    "    file_name = os.path.basename(video_file_path)\n",
    "    file_name, file_extension = os.path.splitext(file_name)\n",
    "    \n",
    "    frame_extraction_directory = f\"content/frames/{file_name}\"\n",
    "    create_frame_output_dir(frame_extraction_directory)\n",
    "    vidcap = cv2.VideoCapture(video_file_path)\n",
    "    fps = vidcap.get(cv2.CAP_PROP_FPS)\n",
    "    frame_count = 0\n",
    "    count = 0\n",
    "    while vidcap.isOpened():\n",
    "        success, frame = vidcap.read()\n",
    "        if not success:  # End of video\n",
    "            break\n",
    "        if int(count / fps) == frame_count:  # Extract a frame every second\n",
    "            min = frame_count // 60\n",
    "            sec = frame_count % 60\n",
    "            time_string = f\"{min:02d}_{sec:02d}\"\n",
    "            image_name = f\"vid_frame{time_string}.jpg\"\n",
    "            output_filename = frame_extraction_directory + \"/\" + image_name\n",
    "            cv2.imwrite(output_filename, frame)\n",
    "            frame_count += 1\n",
    "        count += 1\n",
    "    vidcap.release()\n",
    "    print(f\"Completed video frame extraction!\\n\\nExtracted: {frame_count} frames\")\n",
    "    return frame_extraction_directory"
   ]
  },
  {
   "cell_type": "markdown",
   "metadata": {},
   "source": [
    "<h2>Download video and extract frames</h2>"
   ]
  },
  {
   "cell_type": "code",
   "execution_count": 26,
   "metadata": {},
   "outputs": [],
   "source": [
    "def get_video(url: str, extract: bool = True):\n",
    "    # Download video\n",
    "    video_file_path, audio_file_path = download_youtube_video(url, \"content/videos\")\n",
    "    # Extract frames\n",
    "    extract_frame_from_video(video_file_path)\n",
    "    return video_file_path, audio_file_path"
   ]
  },
  {
   "cell_type": "markdown",
   "metadata": {},
   "source": [
    "<h2>Example Run</h2>"
   ]
  },
  {
   "cell_type": "code",
   "execution_count": 27,
   "metadata": {},
   "outputs": [
    {
     "name": "stdout",
     "output_type": "stream",
     "text": [
      "Downloading content from https://www.youtube.com/watch?v=dQw4w9WgXcQ...\n",
      "Video downloaded to c:\\Users\\JR\\Desktop\\coding\\TeachMe\\server\\experiments\\content/videos\\Never-Gonna-Give-You-Up.mp4\n",
      "Audio downloaded to c:\\Users\\JR\\Desktop\\coding\\TeachMe\\server\\experiments\\content/videos\\Never-Gonna-Give-You-Up.mp3\n",
      "Extracting c:\\Users\\JR\\Desktop\\coding\\TeachMe\\server\\experiments\\content/videos\\Never-Gonna-Give-You-Up.mp4 at 1 frame per second. This might take a bit...\n",
      "Completed video frame extraction!\n",
      "\n",
      "Extracted: 213 frames\n"
     ]
    },
    {
     "data": {
      "text/plain": [
       "('c:\\\\Users\\\\JR\\\\Desktop\\\\coding\\\\TeachMe\\\\server\\\\experiments\\\\content/videos\\\\Never-Gonna-Give-You-Up.mp4',\n",
       " 'c:\\\\Users\\\\JR\\\\Desktop\\\\coding\\\\TeachMe\\\\server\\\\experiments\\\\content/videos\\\\Never-Gonna-Give-You-Up.mp3')"
      ]
     },
     "execution_count": 27,
     "metadata": {},
     "output_type": "execute_result"
    }
   ],
   "source": [
    "# video_url = 'https://www.youtube.com/watch?v=dQw4w9WgXcQ'\n",
    "# get_video(video_url)"
   ]
  },
  {
   "cell_type": "markdown",
   "metadata": {
    "vscode": {
     "languageId": "html"
    }
   },
   "source": [
    "<h1>Gemini</h1>"
   ]
  },
  {
   "cell_type": "markdown",
   "metadata": {},
   "source": [
    "<h2>Cycling API Key</h2>"
   ]
  },
  {
   "cell_type": "code",
   "execution_count": 29,
   "metadata": {},
   "outputs": [],
   "source": [
    "import google.generativeai as genai\n",
    "import ast\n",
    "import os\n",
    "import random\n",
    "# Load environment variables from a .env file\n",
    "from dotenv import load_dotenv\n",
    "load_dotenv()\n",
    "\n",
    "# Parse API keys stored in an environment variable and convert them into a Python list\n",
    "GEMINI_API_KEYS = os.environ.get(\"GEMINI_API_KEYS\")\n",
    "KEY_LIST = ast.literal_eval(GEMINI_API_KEYS)\n",
    "\n",
    "# Shuffle the API keys list to ensure usage of different keys over time\n",
    "random.shuffle(KEY_LIST)\n",
    "\n",
    "# Initialize a global index to track the current API key in use\n",
    "current_api_key_index = 0"
   ]
  },
  {
   "cell_type": "code",
   "execution_count": 30,
   "metadata": {},
   "outputs": [],
   "source": [
    "def cycle_api_key():\n",
    "    \"\"\"Retrieve the next API key from the list, cycling back to the start if necessary.\"\"\"\n",
    "    global current_api_key_index\n",
    "    if current_api_key_index >= len(KEY_LIST) - 1:\n",
    "        current_api_key_index = 0\n",
    "    else:\n",
    "        current_api_key_index += 1\n",
    "    return KEY_LIST[current_api_key_index]"
   ]
  },
  {
   "cell_type": "markdown",
   "metadata": {},
   "source": [
    "<h2>Generate new model</h2>"
   ]
  },
  {
   "cell_type": "code",
   "execution_count": 31,
   "metadata": {},
   "outputs": [],
   "source": [
    "def generate_new_model():\n",
    "    \"\"\"Generate and configure a new AI model instance with a cycled API key.\"\"\"\n",
    "    global current_api_key_index\n",
    "    global messages\n",
    "    api_key = cycle_api_key()  # Cycle to the next API key\n",
    "    \n",
    "    # Configure the generative AI model with the new API key\n",
    "    genai.configure(api_key=api_key)\n",
    "    \n",
    "    # Initialize the model with specific configurations\n",
    "    model = genai.GenerativeModel(\n",
    "        \"gemini-1.5-pro-latest\",\n",
    "        generation_config=genai.GenerationConfig(\n",
    "            temperature=0,  # Set deterministic behavior for the model\n",
    "        ),\n",
    "    )\n",
    "    return model"
   ]
  },
  {
   "cell_type": "markdown",
   "metadata": {},
   "source": [
    "<h3>Upload a file to gemini</h3>"
   ]
  },
  {
   "cell_type": "code",
   "execution_count": 33,
   "metadata": {},
   "outputs": [],
   "source": [
    "def upload_file(path):\n",
    "    \"\"\"Upload a file to the generative AI server and return the response.\n",
    "    \n",
    "    Args:\n",
    "        path (str): The path to the file being uploaded.\n",
    "    \n",
    "    Returns:\n",
    "        object: Server's response after file upload.\n",
    "    \"\"\"\n",
    "    if path is None:\n",
    "        return None\n",
    "    return genai.upload_file(path=path)"
   ]
  },
  {
   "cell_type": "markdown",
   "metadata": {},
   "source": [
    "<h3>Class to help send frame files to gemini</h3>"
   ]
  },
  {
   "cell_type": "code",
   "execution_count": 34,
   "metadata": {},
   "outputs": [],
   "source": [
    "def get_timestamp(filename):\n",
    "    \"\"\"Extract the timestamp from a file name based on a predefined format.\n",
    "    \n",
    "    Args:\n",
    "        filename (str): Filename from which to extract the timestamp.\n",
    "    \n",
    "    Returns:\n",
    "        int or None: Extracted timestamp if format is correct, otherwise None.\n",
    "    \"\"\"\n",
    "    parts = filename.split(\"_frame\")\n",
    "    if len(parts) != 2:\n",
    "        return None  # Filename format is incorrect\n",
    "    return parts[1].split('_')[0]\n",
    "\n",
    "class File:\n",
    "    \"\"\"A class to represent a file and its related metadata for processing.\"\"\"\n",
    "    def __init__(self, file_path: str, display_name: str = None):\n",
    "        self.file_path = file_path\n",
    "        self.display_name = display_name if display_name else file_path\n",
    "        self.timestamp = get_timestamp(file_path)\n",
    "\n",
    "    def set_file_response(self, response):\n",
    "        \"\"\"Associate a server response with the file.\n",
    "        \n",
    "        Args:\n",
    "            response (object): The response received after uploading the file.\n",
    "        \"\"\"\n",
    "        self.response = response"
   ]
  },
  {
   "cell_type": "markdown",
   "metadata": {},
   "source": [
    "<h2>Aggregate Data</h2>"
   ]
  },
  {
   "cell_type": "markdown",
   "metadata": {},
   "source": [
    "<h3>Url -> (Video and Audio) -> Gemini</h3>"
   ]
  },
  {
   "cell_type": "code",
   "execution_count": 35,
   "metadata": {},
   "outputs": [],
   "source": [
    "def video_to_gemini(frame_directory: str):\n",
    "    \"\"\"Returns a list of timestamps and responses for the uploaded video frames for gemini\"\"\"\n",
    "    # Retrieve and sort video frames from the directory\n",
    "    files = os.listdir(frame_directory)\n",
    "    files = sorted(files)\n",
    "    files_to_upload = [File(os.path.join(frame_directory, file)) for file in files]\n",
    "\n",
    "    full_video = False  # Flag to control whether to process all video files\n",
    "    \n",
    "    uploaded_files = []\n",
    "    print(f'Uploading {len(files_to_upload) if full_video else 10} files. This might take a bit...')\n",
    "\n",
    "    # Upload selected video files to the server\n",
    "    for file in files_to_upload if full_video else files_to_upload[40:50]:\n",
    "        print(f'Uploading: {file.file_path}...')\n",
    "        response = genai.upload_file(path=file.file_path)\n",
    "        file.set_file_response(response)\n",
    "        uploaded_files.append(file)\n",
    "\n",
    "    print(f\"Completed file uploads!\\n\\nUploaded: {len(uploaded_files)} files\")\n",
    "    \n",
    "    return [attr for file in uploaded_files for attr in (file.timestamp, file.response)]"
   ]
  },
  {
   "cell_type": "code",
   "execution_count": 36,
   "metadata": {},
   "outputs": [],
   "source": [
    "def audio_to_gemini(audio_file_path: str):\n",
    "    \"\"\"Returns a list of audio context for gemini\"\"\"\n",
    "    return upload_file(audio_file_path)"
   ]
  },
  {
   "cell_type": "markdown",
   "metadata": {},
   "source": [
    "<h3>Example</h3>"
   ]
  },
  {
   "cell_type": "code",
   "execution_count": 38,
   "metadata": {},
   "outputs": [
    {
     "name": "stdout",
     "output_type": "stream",
     "text": [
      "Downloading content from https://www.youtube.com/watch?v=dQw4w9WgXcQ...\n",
      "Video downloaded to c:\\Users\\JR\\Desktop\\coding\\TeachMe\\server\\experiments\\content/videos\\Never-Gonna-Give-You-Up.mp4\n",
      "Audio downloaded to c:\\Users\\JR\\Desktop\\coding\\TeachMe\\server\\experiments\\content/videos\\Never-Gonna-Give-You-Up.mp3\n",
      "Extracting c:\\Users\\JR\\Desktop\\coding\\TeachMe\\server\\experiments\\content/videos\\Never-Gonna-Give-You-Up.mp4 at 1 frame per second. This might take a bit...\n",
      "Completed video frame extraction!\n",
      "\n",
      "Extracted: 213 frames\n"
     ]
    }
   ],
   "source": [
    "# Example video url\n",
    "url = \"https://www.youtube.com/watch?v=dQw4w9WgXcQ\"\n",
    "save_path = \"content/videos\"\n",
    "\n",
    "# Download video and extract frames\n",
    "video_file_path, audio_file_path = download_youtube_video(url, save_path)\n",
    "frame_directory = extract_frame_from_video(video_file_path)"
   ]
  },
  {
   "cell_type": "code",
   "execution_count": 40,
   "metadata": {},
   "outputs": [],
   "source": [
    "# Generate a new model\n",
    "model = generate_new_model()"
   ]
  },
  {
   "cell_type": "code",
   "execution_count": 42,
   "metadata": {},
   "outputs": [
    {
     "name": "stdout",
     "output_type": "stream",
     "text": [
      "Uploading 10 files. This might take a bit...\n",
      "Uploading: content/frames/Never-Gonna-Give-You-Up\\vid_frame00_40.jpg...\n",
      "Uploading: content/frames/Never-Gonna-Give-You-Up\\vid_frame00_41.jpg...\n",
      "Uploading: content/frames/Never-Gonna-Give-You-Up\\vid_frame00_42.jpg...\n",
      "Uploading: content/frames/Never-Gonna-Give-You-Up\\vid_frame00_43.jpg...\n",
      "Uploading: content/frames/Never-Gonna-Give-You-Up\\vid_frame00_44.jpg...\n",
      "Uploading: content/frames/Never-Gonna-Give-You-Up\\vid_frame00_45.jpg...\n",
      "Uploading: content/frames/Never-Gonna-Give-You-Up\\vid_frame00_46.jpg...\n",
      "Uploading: content/frames/Never-Gonna-Give-You-Up\\vid_frame00_47.jpg...\n",
      "Uploading: content/frames/Never-Gonna-Give-You-Up\\vid_frame00_48.jpg...\n",
      "Uploading: content/frames/Never-Gonna-Give-You-Up\\vid_frame00_49.jpg...\n",
      "Completed file uploads!\n",
      "\n",
      "Uploaded: 10 files\n"
     ]
    }
   ],
   "source": [
    "# Get the audio and video contexts\n",
    "audio_context = audio_to_gemini(audio_file_path)\n",
    "video_context = video_to_gemini(frame_directory)"
   ]
  },
  {
   "cell_type": "code",
   "execution_count": 44,
   "metadata": {},
   "outputs": [
    {
     "data": {
      "text/plain": [
       "<google.generativeai.types.file_types.File at 0x20a6bfaaf10>"
      ]
     },
     "execution_count": 44,
     "metadata": {},
     "output_type": "execute_result"
    }
   ],
   "source": [
    "audio_context"
   ]
  },
  {
   "cell_type": "code",
   "execution_count": 45,
   "metadata": {},
   "outputs": [
    {
     "data": {
      "text/plain": [
       "['00',\n",
       " <google.generativeai.types.file_types.File at 0x20a6923f150>,\n",
       " '00',\n",
       " <google.generativeai.types.file_types.File at 0x20a6924d5d0>,\n",
       " '00',\n",
       " <google.generativeai.types.file_types.File at 0x20a6bf33fd0>,\n",
       " '00',\n",
       " <google.generativeai.types.file_types.File at 0x20a6bf722d0>,\n",
       " '00',\n",
       " <google.generativeai.types.file_types.File at 0x20a6bd41d90>,\n",
       " '00',\n",
       " <google.generativeai.types.file_types.File at 0x20a664d63d0>,\n",
       " '00',\n",
       " <google.generativeai.types.file_types.File at 0x20a6bfb7f50>,\n",
       " '00',\n",
       " <google.generativeai.types.file_types.File at 0x20a6b9d7f10>,\n",
       " '00',\n",
       " <google.generativeai.types.file_types.File at 0x20a6bf63510>,\n",
       " '00',\n",
       " <google.generativeai.types.file_types.File at 0x20a6bf73550>]"
      ]
     },
     "execution_count": 45,
     "metadata": {},
     "output_type": "execute_result"
    }
   ],
   "source": [
    "video_context"
   ]
  },
  {
   "cell_type": "code",
   "execution_count": 47,
   "metadata": {},
   "outputs": [],
   "source": [
    "prompt = \"Describe the context\"\n",
    "response = model.generate_content([prompt, audio_context] + video_context, request_options={\"timeout\": 1000})"
   ]
  },
  {
   "cell_type": "code",
   "execution_count": 48,
   "metadata": {},
   "outputs": [
    {
     "data": {
      "text/plain": [
       "'The music video is for the song \"Never Gonna Give You Up\" by Rick Astley. The video features Astley singing and dancing in various locations, including a warehouse, a church, and a street. The video is intercut with shots of a woman dancing and a man running. The video has a retro feel, with Astley\\'s clothing and hairstyle being typical of the 1980s. The video is also notable for its use of the \"Rickroll\" meme, in which people are tricked into watching the video by clicking on a link that appears to be something else.'"
      ]
     },
     "execution_count": 48,
     "metadata": {},
     "output_type": "execute_result"
    }
   ],
   "source": [
    "response.text"
   ]
  }
 ],
 "metadata": {
  "kernelspec": {
   "display_name": "teachme",
   "language": "python",
   "name": "python3"
  },
  "language_info": {
   "codemirror_mode": {
    "name": "ipython",
    "version": 3
   },
   "file_extension": ".py",
   "mimetype": "text/x-python",
   "name": "python",
   "nbconvert_exporter": "python",
   "pygments_lexer": "ipython3",
   "version": "3.11.9"
  }
 },
 "nbformat": 4,
 "nbformat_minor": 2
}
